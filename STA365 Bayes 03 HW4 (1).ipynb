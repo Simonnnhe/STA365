{
 "cells": [
  {
   "cell_type": "markdown",
   "id": "49994083",
   "metadata": {},
   "source": [
    "## Q3"
   ]
  },
  {
   "cell_type": "code",
   "execution_count": 1,
   "id": "bf7d4341",
   "metadata": {},
   "outputs": [],
   "source": [
    "from scipy import stats\n",
    "import numpy as np\n",
    "import matplotlib.pyplot as plt"
   ]
  },
  {
   "cell_type": "markdown",
   "id": "140d2266",
   "metadata": {},
   "source": [
    "We are given the proposal distribution Proposal distribution:\n",
    "\n",
    "$$\n",
    "q\\left(\\tilde{x}^{(t)} \\mid x^{(t-1)}\\right)=\\left(\\frac{1}{2}\\right)^{1-\\tilde{x}^{(t)}}\\left(\\frac{1}{2}\\right)^{\\tilde{x}^{(t)}}\n",
    "$$\n",
    "\n",
    "We firstly check if q is symmetry s.t. the term $$\n",
    "\\frac{q\\left(x^{(t-1)} \\mid \\tilde{x}^{(t)}\\right)}{q\\left(\\tilde{x}^{(t)} \\mid x^{(t-1)}\\right)}=1\n",
    "$$\n",
    "could be cancelled. "
   ]
  },
  {
   "cell_type": "markdown",
   "id": "64b8fc31",
   "metadata": {},
   "source": [
    "Notice that $$ q\\left(x^{(t-1)} \\mid \\tilde{x}^{(t)}\\right) = q(0 \\mid 1)= \\left(\\frac{1}{2}\\right)^{1-1}\\left(\\frac{1}{2}\\right)^{1} = \\frac{1}{2} = q(1 \\mid 0) = \\left(\\frac{1}{2}\\right)^{1-0}\\left(\\frac{1}{2}\\right)^{0} = q\\left(\\tilde{x}^{(t)} \\mid {x}^{(t-1)}\\right)$$\n",
    "\n",
    "Similarly:\n",
    "$$ q(0 \\mid 0)= \\left(\\frac{1}{2}\\right)^{1-0}\\left(\\frac{1}{2}\\right)^{0} = \\frac{1}{2} = \\left(\\frac{1}{2}\\right)^{1-1}\\left(\\frac{1}{2}\\right)^{1} = \\ q(1 \\mid 1)$$\n"
   ]
  },
  {
   "cell_type": "markdown",
   "id": "3e78ddfe",
   "metadata": {},
   "source": [
    "Now for the targetting distribution, we have:\n",
    "$$ \n",
    "p\\left(x^{(t)}\\right)= p \\left(x^{(t)}=0\\right)=\\left(\\frac{1}{3}\\right)^{1-0}\\left(\\frac{2}{3}\\right)^{0}= \\frac{1}{3}\n",
    "$$\n",
    "\n",
    "$$\n",
    "p\\left(x^{(t)}\\right)= p \\left(x^{(t)}=1\\right)=\\left(\\frac{1}{3}\\right)^{1-1}\\left(\\frac{2}{3}\\right)^{1}= \\frac{2}{3}\n",
    "$$"
   ]
  },
  {
   "cell_type": "markdown",
   "id": "e627823e",
   "metadata": {},
   "source": [
    "For the acceptance prob. since \n",
    "$$\n",
    "\\frac{q\\left(x^{(t-1)} \\mid \\tilde{x}^{(t)}\\right)}{q\\left(\\tilde{x}^{(t)} \\mid x^{(t-1)}\\right)}=1\n",
    "$$\n",
    "we could cancel this term.\n",
    "\n",
    "So the acceptance prob. bocomes:\n",
    "$$\n",
    "\\min \\left(1, \\frac{p\\left(\\tilde{x}^{(t)}\\right)}{p\\left(x^{(t-1)}\\right)}\\right)\n",
    "$$\n",
    "\n",
    "For 0 $\\rightarrow$ 1 \n",
    "$$\\min \\left(1, \\frac{p\\left(\\tilde{x}^{(t)}\\right)}{p\\left(x^{(t-1)}\\right)}\\right) = min(1,\\frac{p(\\tilde{x}^{(t)}=1)}{p(x^{(t-1)}=0)}) = min(1,\\frac{\\frac{2}{3}}{\\frac{1}{3}}) = min(1,2)=1$$ \n",
    "\n",
    "For 1 $\\rightarrow$ 0 \n",
    "$$\\min \\left(1, \\frac{p\\left(\\tilde{x}^{(t)}\\right)}{p\\left(x^{(t-1)}\\right)}\\right) = min(1,\\frac{p(\\tilde{x}^{(t)}=0)}{p(x^{(t-1)}=1)}) = min(1,\\frac{\\frac{1}{3}}{\\frac{2}{3}}) = min(1,\\frac{1}{2})=\\frac{1}{2}$$ "
   ]
  },
  {
   "cell_type": "markdown",
   "id": "ad8f7b50",
   "metadata": {},
   "source": [
    "so for the transition kernel K\n",
    "\n",
    "$\\bullet$ $Pr(x^{(t)}=0 \\rightarrow x^{(t+1)}=0)= q(\\tilde x^{(t)}=0 | x^{(t-1)}=0)+ q(\\tilde x^{(t)}=1 | x^{(t-1)}=0) \\left(1- \\frac{p(\\tilde x^{(t)}=1)}{p(x^{(t-1)}=0)}\\right) = \\frac{1}{2} + \\frac{1}{2} \\times \\left( 1-1 \\right) = 0.5 $ where $\\left(1- \\frac{p(\\tilde x^{(t)}=1)}{p(x^{(t-1)}=0)}\\right)$ represents the rejection rate for transition from 0 to 1.\n",
    "\n",
    "\n",
    "$\\bullet$ $Pr(x^{(t)}=0 \\rightarrow x^{(t+1)}=1)= q(\\tilde x^{(t)}=1 | x^{(t-1)}=0) \\times min\\left(1, \\frac{p(\\tilde x^{(t)}=1)}{p(x^{(t-1)}=0)}\\right) = \\frac{1}{2} \\times 1 = \\frac{1}{2} = 0.5$\n",
    "\n",
    "$\\bullet$ $Pr(x^{(t)}=1 \\rightarrow x^{(t+1)}=0)= q(\\tilde x^{(t)}=0 | x^{(t-1)}=1) \\times min\\left(1, \\frac{p(\\tilde x^{(t)}=0)}{p(x^{(t-1)}=1)}\\right) = \\frac{1}{2} \\times \\frac{1}{2} = \\frac{1}{4} = 0.25$\n",
    "\n",
    "$\\bullet$ $Pr(x^{(t)}=1 \\rightarrow x^{(t+1)}=1)= q(\\tilde x^{(t)}=1 | x^{(t-1)}=1)+ q(\\tilde x^{(t)}=0 | x^{(t-1)}=1) \\left(1- \\frac{p(\\tilde x^{(t)}=0)}{p(x^{(t-1)}=1)}\\right) = \\frac{1}{2} + \\frac{1}{2} \\times \\left(1-\\frac{1}{2} \\right)= 0.75 $ where $\\left(1- \\frac{p(\\tilde x^{(t)}=0)}{p(x^{(t-1)}=1)}\\right)$ represents the rejection rate for transition from 1 to 0."
   ]
  },
  {
   "cell_type": "markdown",
   "id": "f107d49e",
   "metadata": {},
   "source": [
    "Hence \n",
    "\n",
    "$K = \\left[\\begin{array}{cc}\\Pr(x^{(t)}=0 \\rightarrow x^{(t+1)}=0) & \\Pr(x^{(t)}=1 \\rightarrow x^{(t+1)}=0)\\\\\\Pr(x^{(t)}=0 \\rightarrow x^{(t+1)}=1)& \\Pr(x^{(t)}=1 \\rightarrow x^{(t+1)}=1)\\end{array}\\right] = \\left[\\begin{array}{cl} 0.5 & 0.25 \\\\ 0.5 & 0.75 \\end{array}\\right]$\n"
   ]
  }
 ],
 "metadata": {
  "kernelspec": {
   "display_name": "Python 3 (ipykernel)",
   "language": "python",
   "name": "python3"
  },
  "language_info": {
   "codemirror_mode": {
    "name": "ipython",
    "version": 3
   },
   "file_extension": ".py",
   "mimetype": "text/x-python",
   "name": "python",
   "nbconvert_exporter": "python",
   "pygments_lexer": "ipython3",
   "version": "3.11.3"
  }
 },
 "nbformat": 4,
 "nbformat_minor": 5
}
