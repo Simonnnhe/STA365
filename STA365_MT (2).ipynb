{
 "cells": [
  {
   "cell_type": "markdown",
   "id": "e02e15d6",
   "metadata": {},
   "source": [
    "# STA365 Midterm Exam\n",
    "\n",
    "Name: ____ZIQING HE______________ $\\longleftarrow$ Double click and replace the underscore with your name to indicate your understanding and agreement to the following rules of the exam\n",
    "\n",
    "> ### Rules\n",
    "> 1. You may ask me questions privately on [piazza](https://piazza.com/class/m5jvyco84083fm) https://piazza.com/class/m5jvyco84083fm \n",
    ">    1. I will convert reasonable questions public posts and answer them publicly\n",
    ">    2. *With the exception of piazza Q&A...*\n",
    "> 2. The midterm exam is open notes and open internet (including chatbots) **but you may not collaborate with other humans to complete this exam, but you may use any resources available online**\n"
   ]
  },
  {
   "cell_type": "markdown",
   "id": "2352f9bb",
   "metadata": {},
   "source": [
    "## Part 1: Metropolis-Hastings\n",
    "\n",
    "**Metropolis-Hastings** targetting **stationary distribution** $p$ based on **proposal distribution** $q$ given below\n",
    "\n",
    "$$q(\\tilde x^{(t)} | x^{(t-1)}) = \\left(\\frac{2}{3}\\right)^{1-{\\tilde x^{(t)}}}\\left(\\frac{1}{3}\\right)^{\\tilde x^{(t)}} \\quad\n",
    "\\textrm{ and } \\quad p(x^{(t)}) = \\left(\\frac{1}{3}\\right)^{1-{x^{(t)}}}\\left(\\frac{2}{3}\\right)^{x^{(t)}}$$\n",
    "\n",
    "has **transition kernel** $K$ of transition probabilities \n",
    "\n",
    "$K = \\left[\\begin{array}{cc}\\Pr(x^{(t)}=0 \\rightarrow x^{(t+1)}=0) & \\Pr(x^{(t)}=1 \\rightarrow x^{(t+1)}=0)\\\\\\Pr(x^{(t)}=0 \\rightarrow x^{(t+1)}=1)& \\Pr(x^{(t)}=1 \\rightarrow x^{(t+1)}=1)\\end{array}\\right] = \\left[\\begin{array}{cl} 2/3 & 1/6 \\\\ 1/3 & 5/6 \\end{array}\\right]$\n"
   ]
  },
  {
   "cell_type": "markdown",
   "id": "0bc1edfd",
   "metadata": {},
   "source": [
    "## Part 1A (5%)\n",
    "\n",
    "\n",
    "### How is this different from `Q3` in `Bayes_03_Metropolis_Hastings.ipynb`<br>and why is this?\n",
    "\n",
    "#### *Double Click and Answer below in this cell*\n",
    "One difference is that the proposal distribution q in Q3 of B03 is symmetry (i.e. $q(1|0) = q(0|1)$) which all equal to 1/2, while the one in this problem is not(by just plug in the number into formua we see that $q(0|1) = \\frac{2}{3} \\neq q(1|0) = \\frac{2}{9}$). \n",
    "\n",
    "<!-- The answer is not \"because it has been specified differently\": -->\n",
    "<!-- one is specified differently and the other changes as a result -->\n",
    "\n",
    "### How is this similar to `Q3` in `Bayes_03_Metropolis_Hastings.ipynb`<br>and why is this true?\n",
    "\n",
    "#### *Double Click and Answer below in this cell*\n",
    "Both question has same target (stationary) distribution $p(x^{(t)}) = \\left(\\frac{1}{3}\\right)^{1-{x^{(t)}}}\\left(\\frac{2}{3}\\right)^{x^{(t)}}$\n",
    "\n",
    "<!-- The answer is not \"because it has been specified the same way\": -->\n",
    "<!-- this is asking why the stationary distribution will be the same -->\n",
    "\n",
    "\n"
   ]
  },
  {
   "cell_type": "markdown",
   "id": "ad3112e2",
   "metadata": {},
   "source": [
    "\n",
    "## Part 1B (5%)\n",
    "\n",
    "### What is the Metropolis-Hastings acceptance probability $\\alpha_{mh}$ here?\n",
    "\n",
    "#### *Double Click and Answer below in this cell*\n",
    "\n",
    "<!-- You don't have to write this in LaTeX but it's probably easy to do so -->\n",
    "$\\alpha_{mh} = \\min\\left(1, \\frac{p(\\tilde x^{t}) q(x^{(t-1)} | \\tilde x^{t})}{p(x^{(t-1)}) q(\\tilde x^{t} | x^{(t-1)})} \\right)\n",
    "\\$\n",
    "\n",
    "Substituting from:\n",
    "\n",
    "$$\n",
    "p(x^{(t)})=\\left(\\frac{1}{3}\\right)^{1-x}\\left(\\frac{2}{3}\\right)^x, \\quad q(\\tilde{x} \\mid x)=\\left(\\frac{2}{3}\\right)^{1-\\tilde{x}}\\left(\\frac{1}{3}\\right)^{\\tilde{x}}\n",
    "$$\n",
    "\n",
    "If from 0 $\\rightarrow$ 1:\n",
    "$$\n",
    "\\begin{aligned}\n",
    "\\alpha_{m h}= & \\min \\left(1, \\frac{p(1) q(0 \\mid 1)}{p(0) q(1 \\mid 0)}\\right)=\\min \\left(1, \\frac{\\left(\\frac{2}{3}\\right)}{\\left(\\frac{1}{3}\\right)} \\times \\frac{\\frac{1}{3}}{\\frac{2}{3}}\\right) \\\\\n",
    "& =\\min \\left(1, \\frac{\\frac{2}{3} \\times \\frac{1}{3}}{\\frac{1}{3} \\times \\frac{2}{3}}\\right)=\\min (1,1)=1\n",
    "\\end{aligned}\n",
    "$$\n",
    "\n",
    "If from 1 $\\rightarrow$ 0:\n",
    "$$\n",
    "\\begin{aligned}\n",
    "\\alpha_{m h}= & \\min \\left(1, \\frac{p(0) q(1 \\mid 0)}{p(1) q(0 \\mid 1)}\\right)=\\min \\left(1, \\frac{\\left(\\frac{1}{3}\\right)}{\\left(\\frac{2}{3}\\right)} \\times \\frac{\\frac{2}{3}}{\\frac{1}{3}}\\right) \\\\\n",
    "& =\\min \\left(1, \\frac{\\frac{1}{3} \\times \\frac{2}{3}}{\\frac{2}{3} \\times \\frac{1}{3}}\\right)=\\min (1,1)=1\n",
    "\\end{aligned}\n",
    "$$\n",
    "\n",
    "So the acceptance probability is 1.\n",
    "\n",
    "\n",
    "### What is the difference between the *acceptance probability,  proposal distribution, transition kernel, stationary distribution and target distribution*?\n",
    "\n",
    "#### *Double Click and Answer below in this cell*\n",
    "\n",
    "<!-- You don't have to use this answer structure template but it might help -->\n",
    "\n",
    "The acceptance probability is the the probability to accept proposed move from the current state to the next, which ensures that the Markov Chain samples from the correct stationary distribution. It decides whether the proposed move should be accepted. Proposal distribution defines how we propose the next state given the current state. In other words it defines how we propose the distribution of the next state. Transition kernel involves the probability of moving from one state to the other. Altogether acceptance probability, proposal distribution and transition kernel decides how the Markov chain is going to move through the state space. And finally we would form target distribution, which is the true probability distribution of parameter. Last but not least the stationary distribution is the distribution that remains unchaged as the chain evovles (or the chain transition). This ensures that after sufficient iteration the sample generated is from desired true probability of parameters.\n"
   ]
  },
  {
   "cell_type": "markdown",
   "id": "d6587c97",
   "metadata": {},
   "source": [
    "## Part 1C (5%)\n",
    "\n",
    "Let $\\alpha_{x^{(t-1)} \\rightarrow \\tilde x^{(t)} }$ be the Metropolis-Hastings acceptance probability for proposal $\\tilde x^{(t)}$ when at state $x^{(t-1)}$ and $\\alpha_{x^{(t-1)} \\rightarrow x^{(t)}}$ be the chance of moving to state $ x^{(t)}$ when at state $x^{(t-1)}$.\n",
    "\n",
    "> $$q(\\tilde x^{(t)} | x^{(t-1)}) = \\left(\\frac{2}{3}\\right)^{1-{\\tilde x^{(t)}}}\\left(\\frac{1}{3}\\right)^{\\tilde x^{(t)}} \\quad\n",
    "\\textrm{ and } \\quad p(x^{(t)}) = \\left(\\frac{1}{3}\\right)^{1-{x^{(t)}}}\\left(\\frac{2}{3}\\right)^{x^{(t)}}$$\n",
    "\n",
    "### Complete the following table\n",
    "\n",
    "The $\\alpha_{x^{(t-1)} \\rightarrow x^{(t)}}$ here may be given as calculated numbers or just $\\alpha_{x^{(t-1)} \\rightarrow \\tilde x^{(t)} }$ and $1-\\alpha_{x^{(t-1)} \\rightarrow \\tilde x^{(t)} }$. The rows with zero probability $x^{(t)}$ may be included in the table but are not required.\n",
    "\n",
    "| $$\\tilde x^{(t)}$$ | $$x^{(t-1)}$$ | $$p(\\tilde x^{(t)})$$ | $$p(x^{(t-1)})$$ | $$q(\\tilde x^{(t)} | x^{(t-1)})$$ | $$q(x^{(t-1)}|\\tilde x^{(t)})$$ | $$\\alpha_{x^{(t-1)} \\rightarrow x^{(t)} }$$ | $$x^{(t)}$$|\n",
    "|-|-|-|-|-|-|-|-|\n",
    "|0 | 0|$\\frac{2}{3}$ |$\\frac{1}{3}$ | $\\frac{2}{3}$|$\\frac{1}{3}$ |1 | 0| \\\\\n",
    "|1 | 0 | $\\frac{2}{3}$ | $\\frac{1}{3}$ | $\\frac{1}{3}$ | $\\frac{2}{3}$ | 1 | 1 \n",
    "|0 | 1 | $\\frac{1}{3}$ | $\\frac{2}{3}$ | $\\frac{2}{3}$ | $\\frac{2}{3}$ | $\\frac{1}{2}$ | 0 \n",
    "|1 | 1 | $\\frac{2}{3}$ | $\\frac{2}{3}$ | $\\frac{1}{3}$ | $\\frac{1}{3}$ | 1 | 1 \n",
    "\n",
    "\n",
    "\n",
    "\n",
    "\n",
    "\n"
   ]
  },
  {
   "cell_type": "markdown",
   "id": "34755f9d",
   "metadata": {},
   "source": [
    "## Part 1D (5%)\n",
    "\n",
    "Show that the **transition kernel** $K$ of transition probabilities defined by this **Metropolis Hastings** algorithm is\n",
    "\n",
    "$K = \\left[\\begin{array}{cc}\\Pr(x^{(t)}=0 \\rightarrow x^{(t+1)}=0) & \\Pr(x^{(t)}=1 \\rightarrow x^{(t+1)}=0)\\\\\\Pr(x^{(t)}=0 \\rightarrow x^{(t+1)}=1)& \\Pr(x^{(t)}=1 \\rightarrow x^{(t+1)}=1)\\end{array}\\right] = \\left[\\begin{array}{cl} 2/3 & 1/6 \\\\ 1/3 & 5/6 \\end{array}\\right]$\n",
    "\n",
    "### Use the probabilities from the table above\n",
    "\n",
    "#### *Double Click and Answer below in this cell*\n",
    "\n",
    "<!-- You don't have to write this in LaTeX but it's probably easy to do so -->\n",
    "$\\begin{align}\n",
    "\\Pr(s_0 \\rightarrow s_0) &={2/3 +1/3 \\times (1-1) = 2/3} \\\\\n",
    "\\Pr(s_0 \\rightarrow s_1) &={1/3 \\times 1 = 1/3} \\\\\n",
    "\\Pr(s_1 \\rightarrow s_1) &={1/3 +2/3 *(1-1/2)=5/6} \\\\\n",
    "\\Pr(s_1 \\rightarrow s_0) &={2/3 \\times 1/2 = 1/3} \\\\\n",
    "\\end{align}\n",
    "$\n",
    "\n",
    "The element inside the matrix is exactly the same as the one in K"
   ]
  },
  {
   "cell_type": "code",
   "execution_count": 1,
   "id": "f4e6430b",
   "metadata": {},
   "outputs": [],
   "source": [
    "# Use only the following imports\n",
    "\n",
    "import numpy as np\n",
    "import pandas as pd\n",
    "import matplotlib.pyplot as plt\n",
    "from scipy import stats\n",
    "import pymc\n",
    "import arviz as az\n"
   ]
  },
  {
   "cell_type": "code",
   "execution_count": 2,
   "id": "a1bd2d99",
   "metadata": {},
   "outputs": [
    {
     "data": {
      "text/plain": [
       "array([[0.66666667, 0.16666667],\n",
       "       [0.33333333, 0.83333333]])"
      ]
     },
     "execution_count": 2,
     "metadata": {},
     "output_type": "execute_result"
    }
   ],
   "source": [
    "A = np.array([[2/3,1/6],[1/3, 5/6]])\n",
    "#A = np.array([[.5,.25],[.5, .75]])\n",
    "A"
   ]
  },
  {
   "cell_type": "code",
   "execution_count": 3,
   "id": "a64694db",
   "metadata": {},
   "outputs": [
    {
     "data": {
      "text/plain": [
       "array([[0.5 , 0.25],\n",
       "       [0.5 , 0.75]])"
      ]
     },
     "execution_count": 3,
     "metadata": {},
     "output_type": "execute_result"
    }
   ],
   "source": [
    "A = A@A\n",
    "A"
   ]
  },
  {
   "cell_type": "code",
   "execution_count": 4,
   "id": "6d38549b",
   "metadata": {},
   "outputs": [
    {
     "name": "stdout",
     "output_type": "stream",
     "text": [
      "n (272, 2) variables\n"
     ]
    },
    {
     "data": {
      "image/png": "[encoded data removed]",
      "text/plain": [
       "<Figure size 640x480 with 1 Axes>"
      ]
     },
     "metadata": {},
     "output_type": "display_data"
    }
   ],
   "source": [
    "# The remainder of the midterm exam will be\n",
    "# based on the classic \"Old Faithful\" dataset\n",
    "\n",
    "old_faithful = pd.read_csv(\"https://gist.githubusercontent.com/curran/4b59d1046d9e66f2787780ad51a1cd87/raw/9ec906b78a98cf300947a37b56cfe70d01183200/data.tsv\", sep=\"\\t\")\n",
    "print(\"n\", old_faithful.shape, \"variables\")\n",
    "plt.plot(old_faithful.waiting, old_faithful.eruptions, '.')\n",
    "plt.xlabel(\"old_faithful.waiting (time to next eruption)\")\n",
    "plt.ylabel(\"old_faithful.eruptions (duration time period)\");"
   ]
  },
  {
   "cell_type": "markdown",
   "id": "63726c01",
   "metadata": {},
   "source": [
    "---\n",
    "\n",
    "### Recall the normal-gamma specification \n",
    "\n",
    "$$\\scriptsize\n",
    "\\begin{align*}\n",
    "p(\\theta,\\tau|x) &\\propto{} p(\\theta,\\tau,x) = p(x|\\theta)p(\\theta)p(\\tau) \\quad (\\theta \\perp\\!\\!\\perp \\tau) \\leftarrow \\text{independent priors} & p(\\theta|x,\\theta_0,\\tau_0, \\tau) &={} \\text{N}\\left(\\frac{\\left(\\tau_0 \\theta_0+\\tau\\sum_{i=1}^{n}x_{i}\\right)}{(\\tau_0+n\\tau)}, \\sigma^{-2}=\\tau_0+n\\tau \\right)\\\\\n",
    "&={}  \\left[\\prod_{i=1}^n\\sqrt{\\frac{\\tau}{2\\pi}} e^{-\\frac{\\tau\\left(x_i-\\theta\\right)^2}{2}}\\right] \\sqrt{\\frac{\\tau_0}{2\\pi}} e^{-\\frac{\\tau_0\\left(\\theta-\\theta_0\\right)^2}{2}} \\frac{\\beta ^{\\alpha}}{\\Gamma(\\alpha)} \\tau^{\\frac{\\alpha}{2} -1}e^{-\\frac{\\beta}{2} \\tau} & p(\\tau|x, \\alpha, \\beta, \\theta) &={} \\text{Gamma}\\left(\\frac{\\alpha}{2}+\\frac{n}{2}, \\frac{1}{2}\\beta+\\frac{1}{2}\\sum_{i=1}^n\\left(x_i-\\theta\\right)^2 \\right)\n",
    "\\end{align*}$$\n",
    "\n",
    "### And consider the following specification for the Old Faithful data above\n",
    "\n",
    "$\n",
    "\\begin{align}\n",
    "\\textrm{For $i$ in } 1,\\cdots, n &={} 272\\\\\n",
    "\\textrm{Let unobserved $u_i=1$ indicate the long time group} & \\quad \\textrm{so the data point belongs to upper right cluster of data}\\\\\n",
    "\\textrm{and unobserved $u_i=0$ indicate the short time group} & \\quad  \\textrm{so the data point belongs to bottom left cluster of data}\\\\\n",
    "u_i &\\sim{} \\textrm{Bernoulli}(p) \\\\\n",
    "p &\\sim{} \\textrm{beta}(\\alpha_0=1,\\beta_0=1)\\\\\n",
    "\\textrm{Let waiting duration} & \\\\\n",
    "w_i &\\sim{} N\\big((1-u_i)\\times \\theta_{w0} + u_i \\times \\theta_{w1}, \\tau_w\\big) \\\\\n",
    "\\theta_{w0} &\\sim{} N\\big(\\mu_{w0}=55, \\tau_{w0}=1/5^2 \\big) & \\\\\n",
    "\\theta_{w1} &\\sim{} N\\big(\\mu_{w1}=85, \\tau_{w1}=1/5^2 \\big) & \\\\\n",
    "\\tau_w  &\\sim{} \\textrm{Gamma}\\left(\\alpha=\\frac{1}{2}, \\beta=\\frac{1}{2}10^2\\right)\\\\\n",
    "\\textrm{and eruption duration} & \\\\\n",
    "y_i &\\sim{} N\\big((1-u_i)\\times \\theta_{y0} + u_i \\times \\theta_{y1}, \\tau_y\\big) & \\\\\n",
    "\\theta_{y0} &\\sim{} N\\big(\\mu_{y0}=2.0, \\tau_{y0}=1/0.5^2 \\big) & \\\\\n",
    "\\theta_{y1} &\\sim{} N\\big(\\mu_{y1}=4.5, \\tau_{y1}=1/0.5^2 \\big) & \\\\\n",
    "\\tau_y  &\\sim{} \\textrm{Gamma}\\left(\\alpha=\\frac{1}{2}, \\beta=\\frac{1}{2}1^2\\right)\\\\\n",
    "\\end{align}\n",
    "$"
   ]
  },
  {
   "cell_type": "markdown",
   "id": "786b592f",
   "metadata": {},
   "source": [
    "## Part 2 (20%): Complete the specification above using PyMC\n",
    "- Use one beta distribution\n",
    "- Use one Bernoulli distribution with `shape=272`\n",
    "- Use four normal distributions for the location $\\theta$ parameters, each with `shape=1`\n",
    "- Use two gamma distributions for the precision $\\tau$ parameters, each with `shape=1`\n",
    "- Use two normal distributions for the two observation columns (as given below)"
   ]
  },
  {
   "cell_type": "code",
   "execution_count": 5,
   "id": "3ea1509c",
   "metadata": {
    "scrolled": false
   },
   "outputs": [
    {
     "name": "stderr",
     "output_type": "stream",
     "text": [
      "Multiprocess sampling (2 chains in 2 jobs)\n",
      "CompoundStep\n",
      ">NUTS: [p, theta_w0, theta_w1, theta_y0, theta_y1, tau_w, tau_y]\n",
      ">BinaryGibbsMetropolis: [u]\n"
     ]
    },
    {
     "data": {
      "application/vnd.jupyter.widget-view+json": {
       "model_id": "f6316c1166644bf1af7a8242ed1ed1dc",
       "version_major": 2,
       "version_minor": 0
      },
      "text/plain": [
       "Output()"
      ]
     },
     "metadata": {},
     "output_type": "display_data"
    },
    {
     "data": {
      "text/html": [
       "<pre style=\"white-space:pre;overflow-x:auto;line-height:normal;font-family:Menlo,'DejaVu Sans Mono',consolas,'Courier New',monospace\"></pre>\n"
      ],
      "text/plain": []
     },
     "metadata": {},
     "output_type": "display_data"
    },
    {
     "name": "stderr",
     "output_type": "stream",
     "text": [
      "Sampling 2 chains for 1_000 tune and 2_000 draw iterations (2_000 + 4_000 draws total) took 24 seconds.\n",
      "/Users/simonhe/anaconda3/lib/python3.11/site-packages/arviz/stats/diagnostics.py:596: RuntimeWarning: invalid value encountered in scalar divide\n",
      "  (between_chain_variance / within_chain_variance + num_samples - 1) / (num_samples)\n",
      "We recommend running at least 4 chains for robust computation of convergence diagnostics\n"
     ]
    }
   ],
   "source": [
    "# If u is a vector (with `shape=272` in this case)\n",
    "# then `(1-u)*theta_w0 + u*theta_w1` creates a vector of length 272\n",
    "# which can be used for the mean of the observed `w` data along with `tau=tau_w`\n",
    "# so long as `shape=1` is used in the specification of `theta_w0` and `theta_w1`\n",
    "# which makes these random variables a \"vector\" as opposed to a \"scalar\"\n",
    "\n",
    "\n",
    "with pymc.Model() as OldFaithful:\n",
    "    #one beta\n",
    "    p = pymc.Beta(\"p\", alpha=1, beta=1)\n",
    "    #one bernoulli\n",
    "    u = pymc.Bernoulli(\"u\", p=p, shape=272)\n",
    "    #four normal\n",
    "    theta_w0 = pymc.Normal(\"theta_w0\", mu=55, tau=1/(5**2))\n",
    "    theta_w1 = pymc.Normal(\"theta_w1\", mu=85, tau=1/(5**2))\n",
    "    theta_y0 = pymc.Normal(\"theta_y0\", mu=2.0, tau=1/(0.5**2), shape=1)\n",
    "    theta_y1 = pymc.Normal(\"theta_y1\", mu=4.5, tau=1/(0.5**2), shape=1)\n",
    "    #two gamma\n",
    "    tau_w = pymc.Gamma(\"tau_w\", alpha=0.5, beta=0.5 * (10**2), shape=1)\n",
    "    tau_y = pymc.Gamma(\"tau_y\", alpha=0.5, beta=0.5 * (1**2), shape=1)\n",
    "    # Two Normal distributions for the observed data columns\n",
    "    obs_w = pymc.Normal(\"obs_w\", mu=(1 - u) * theta_w0 + u * theta_w1, tau=tau_w, observed=old_faithful[\"waiting\"])\n",
    "    obs_y = pymc.Normal(\"obs_y\", mu=(1 - u) * theta_y0 + u * theta_y1, tau=tau_y, observed=old_faithful[\"eruptions\"])\n",
    "\n",
    "\n",
    "    pass  # complete...\n",
    "\n",
    "\n",
    "\n",
    "    # The observed data flows into the model through two entery points\n",
    "    #obs_w = pymc.Normal(\"obs_w\", mu = (1-u)*theta_w0 + u*theta_w1, \n",
    "                        #tau=tau_w, observed=dat.waiting)\n",
    "    #obs_y = pymc.Normal(\"obs_y\", mu = (1-u)*theta_y0 + u*theta_y1, \n",
    "                        #tau=tau_y, observed=dat.eruptions)\n",
    "    "
   ]
  },
  {
   "cell_type": "code",
   "execution_count": 6,
   "id": "84e1e6aa",
   "metadata": {
    "scrolled": false
   },
   "outputs": [
    {
     "ename": "ExecutableNotFound",
     "evalue": "failed to execute PosixPath('dot'), make sure the Graphviz executables are on your systems' PATH",
     "output_type": "error",
     "traceback": [
      "\u001b[0;31m---------------------------------------------------------------------------\u001b[0m",
      "\u001b[0;31mFileNotFoundError\u001b[0m                         Traceback (most recent call last)",
      "File \u001b[0;32m~/anaconda3/lib/python3.11/site-packages/graphviz/backend/execute.py:76\u001b[0m, in \u001b[0;36mrun_check\u001b[0;34m(cmd, input_lines, encoding, quiet, **kwargs)\u001b[0m\n\u001b[1;32m     75\u001b[0m         kwargs[\u001b[38;5;124m'\u001b[39m\u001b[38;5;124mstdout\u001b[39m\u001b[38;5;124m'\u001b[39m] \u001b[38;5;241m=\u001b[39m kwargs[\u001b[38;5;124m'\u001b[39m\u001b[38;5;124mstderr\u001b[39m\u001b[38;5;124m'\u001b[39m] \u001b[38;5;241m=\u001b[39m subprocess\u001b[38;5;241m.\u001b[39mPIPE\n\u001b[0;32m---> 76\u001b[0m     proc \u001b[38;5;241m=\u001b[39m _run_input_lines(cmd, input_lines, kwargs\u001b[38;5;241m=\u001b[39mkwargs)\n\u001b[1;32m     77\u001b[0m \u001b[38;5;28;01melse\u001b[39;00m:\n",
      "File \u001b[0;32m~/anaconda3/lib/python3.11/site-packages/graphviz/backend/execute.py:96\u001b[0m, in \u001b[0;36m_run_input_lines\u001b[0;34m(cmd, input_lines, kwargs)\u001b[0m\n\u001b[1;32m     95\u001b[0m \u001b[38;5;28;01mdef\u001b[39;00m \u001b[38;5;21m_run_input_lines\u001b[39m(cmd, input_lines, \u001b[38;5;241m*\u001b[39m, kwargs):\n\u001b[0;32m---> 96\u001b[0m     popen \u001b[38;5;241m=\u001b[39m subprocess\u001b[38;5;241m.\u001b[39mPopen(cmd, stdin\u001b[38;5;241m=\u001b[39msubprocess\u001b[38;5;241m.\u001b[39mPIPE, \u001b[38;5;241m*\u001b[39m\u001b[38;5;241m*\u001b[39mkwargs)\n\u001b[1;32m     98\u001b[0m     stdin_write \u001b[38;5;241m=\u001b[39m popen\u001b[38;5;241m.\u001b[39mstdin\u001b[38;5;241m.\u001b[39mwrite\n",
      "File \u001b[0;32m~/anaconda3/lib/python3.11/subprocess.py:1024\u001b[0m, in \u001b[0;36mPopen.__init__\u001b[0;34m(self, args, bufsize, executable, stdin, stdout, stderr, preexec_fn, close_fds, shell, cwd, env, universal_newlines, startupinfo, creationflags, restore_signals, start_new_session, pass_fds, user, group, extra_groups, encoding, errors, text, umask, pipesize, process_group)\u001b[0m\n\u001b[1;32m   1021\u001b[0m             \u001b[38;5;28mself\u001b[39m\u001b[38;5;241m.\u001b[39mstderr \u001b[38;5;241m=\u001b[39m io\u001b[38;5;241m.\u001b[39mTextIOWrapper(\u001b[38;5;28mself\u001b[39m\u001b[38;5;241m.\u001b[39mstderr,\n\u001b[1;32m   1022\u001b[0m                     encoding\u001b[38;5;241m=\u001b[39mencoding, errors\u001b[38;5;241m=\u001b[39merrors)\n\u001b[0;32m-> 1024\u001b[0m     \u001b[38;5;28mself\u001b[39m\u001b[38;5;241m.\u001b[39m_execute_child(args, executable, preexec_fn, close_fds,\n\u001b[1;32m   1025\u001b[0m                         pass_fds, cwd, env,\n\u001b[1;32m   1026\u001b[0m                         startupinfo, creationflags, shell,\n\u001b[1;32m   1027\u001b[0m                         p2cread, p2cwrite,\n\u001b[1;32m   1028\u001b[0m                         c2pread, c2pwrite,\n\u001b[1;32m   1029\u001b[0m                         errread, errwrite,\n\u001b[1;32m   1030\u001b[0m                         restore_signals,\n\u001b[1;32m   1031\u001b[0m                         gid, gids, uid, umask,\n\u001b[1;32m   1032\u001b[0m                         start_new_session, process_group)\n\u001b[1;32m   1033\u001b[0m \u001b[38;5;28;01mexcept\u001b[39;00m:\n\u001b[1;32m   1034\u001b[0m     \u001b[38;5;66;03m# Cleanup if the child failed starting.\u001b[39;00m\n",
      "File \u001b[0;32m~/anaconda3/lib/python3.11/subprocess.py:1917\u001b[0m, in \u001b[0;36mPopen._execute_child\u001b[0;34m(self, args, executable, preexec_fn, close_fds, pass_fds, cwd, env, startupinfo, creationflags, shell, p2cread, p2cwrite, c2pread, c2pwrite, errread, errwrite, restore_signals, gid, gids, uid, umask, start_new_session, process_group)\u001b[0m\n\u001b[1;32m   1916\u001b[0m         err_msg \u001b[38;5;241m=\u001b[39m os\u001b[38;5;241m.\u001b[39mstrerror(errno_num)\n\u001b[0;32m-> 1917\u001b[0m     \u001b[38;5;28;01mraise\u001b[39;00m child_exception_type(errno_num, err_msg, err_filename)\n\u001b[1;32m   1918\u001b[0m \u001b[38;5;28;01mraise\u001b[39;00m child_exception_type(err_msg)\n",
      "\u001b[0;31mFileNotFoundError\u001b[0m: [Errno 2] No such file or directory: PosixPath('dot')",
      "\nThe above exception was the direct cause of the following exception:\n",
      "\u001b[0;31mExecutableNotFound\u001b[0m                        Traceback (most recent call last)",
      "File \u001b[0;32m~/anaconda3/lib/python3.11/site-packages/IPython/core/formatters.py:974\u001b[0m, in \u001b[0;36mMimeBundleFormatter.__call__\u001b[0;34m(self, obj, include, exclude)\u001b[0m\n\u001b[1;32m    971\u001b[0m     method \u001b[38;5;241m=\u001b[39m get_real_method(obj, \u001b[38;5;28mself\u001b[39m\u001b[38;5;241m.\u001b[39mprint_method)\n\u001b[1;32m    973\u001b[0m     \u001b[38;5;28;01mif\u001b[39;00m method \u001b[38;5;129;01mis\u001b[39;00m \u001b[38;5;129;01mnot\u001b[39;00m \u001b[38;5;28;01mNone\u001b[39;00m:\n\u001b[0;32m--> 974\u001b[0m         \u001b[38;5;28;01mreturn\u001b[39;00m method(include\u001b[38;5;241m=\u001b[39minclude, exclude\u001b[38;5;241m=\u001b[39mexclude)\n\u001b[1;32m    975\u001b[0m     \u001b[38;5;28;01mreturn\u001b[39;00m \u001b[38;5;28;01mNone\u001b[39;00m\n\u001b[1;32m    976\u001b[0m \u001b[38;5;28;01melse\u001b[39;00m:\n",
      "File \u001b[0;32m~/anaconda3/lib/python3.11/site-packages/graphviz/jupyter_integration.py:98\u001b[0m, in \u001b[0;36mJupyterIntegration._repr_mimebundle_\u001b[0;34m(self, include, exclude, **_)\u001b[0m\n\u001b[1;32m     96\u001b[0m include \u001b[38;5;241m=\u001b[39m \u001b[38;5;28mset\u001b[39m(include) \u001b[38;5;28;01mif\u001b[39;00m include \u001b[38;5;129;01mis\u001b[39;00m \u001b[38;5;129;01mnot\u001b[39;00m \u001b[38;5;28;01mNone\u001b[39;00m \u001b[38;5;28;01melse\u001b[39;00m {\u001b[38;5;28mself\u001b[39m\u001b[38;5;241m.\u001b[39m_jupyter_mimetype}\n\u001b[1;32m     97\u001b[0m include \u001b[38;5;241m-\u001b[39m\u001b[38;5;241m=\u001b[39m \u001b[38;5;28mset\u001b[39m(exclude \u001b[38;5;129;01mor\u001b[39;00m [])\n\u001b[0;32m---> 98\u001b[0m \u001b[38;5;28;01mreturn\u001b[39;00m {mimetype: \u001b[38;5;28mgetattr\u001b[39m(\u001b[38;5;28mself\u001b[39m, method_name)()\n\u001b[1;32m     99\u001b[0m         \u001b[38;5;28;01mfor\u001b[39;00m mimetype, method_name \u001b[38;5;129;01min\u001b[39;00m MIME_TYPES\u001b[38;5;241m.\u001b[39mitems()\n\u001b[1;32m    100\u001b[0m         \u001b[38;5;28;01mif\u001b[39;00m mimetype \u001b[38;5;129;01min\u001b[39;00m include}\n",
      "File \u001b[0;32m~/anaconda3/lib/python3.11/site-packages/graphviz/jupyter_integration.py:98\u001b[0m, in \u001b[0;36m<dictcomp>\u001b[0;34m(.0)\u001b[0m\n\u001b[1;32m     96\u001b[0m include \u001b[38;5;241m=\u001b[39m \u001b[38;5;28mset\u001b[39m(include) \u001b[38;5;28;01mif\u001b[39;00m include \u001b[38;5;129;01mis\u001b[39;00m \u001b[38;5;129;01mnot\u001b[39;00m \u001b[38;5;28;01mNone\u001b[39;00m \u001b[38;5;28;01melse\u001b[39;00m {\u001b[38;5;28mself\u001b[39m\u001b[38;5;241m.\u001b[39m_jupyter_mimetype}\n\u001b[1;32m     97\u001b[0m include \u001b[38;5;241m-\u001b[39m\u001b[38;5;241m=\u001b[39m \u001b[38;5;28mset\u001b[39m(exclude \u001b[38;5;129;01mor\u001b[39;00m [])\n\u001b[0;32m---> 98\u001b[0m \u001b[38;5;28;01mreturn\u001b[39;00m {mimetype: \u001b[38;5;28mgetattr\u001b[39m(\u001b[38;5;28mself\u001b[39m, method_name)()\n\u001b[1;32m     99\u001b[0m         \u001b[38;5;28;01mfor\u001b[39;00m mimetype, method_name \u001b[38;5;129;01min\u001b[39;00m MIME_TYPES\u001b[38;5;241m.\u001b[39mitems()\n\u001b[1;32m    100\u001b[0m         \u001b[38;5;28;01mif\u001b[39;00m mimetype \u001b[38;5;129;01min\u001b[39;00m include}\n",
      "File \u001b[0;32m~/anaconda3/lib/python3.11/site-packages/graphviz/jupyter_integration.py:112\u001b[0m, in \u001b[0;36mJupyterIntegration._repr_image_svg_xml\u001b[0;34m(self)\u001b[0m\n\u001b[1;32m    110\u001b[0m \u001b[38;5;28;01mdef\u001b[39;00m \u001b[38;5;21m_repr_image_svg_xml\u001b[39m(\u001b[38;5;28mself\u001b[39m) \u001b[38;5;241m-\u001b[39m\u001b[38;5;241m>\u001b[39m \u001b[38;5;28mstr\u001b[39m:\n\u001b[1;32m    111\u001b[0m \u001b[38;5;250m    \u001b[39m\u001b[38;5;124;03m\"\"\"Return the rendered graph as SVG string.\"\"\"\u001b[39;00m\n\u001b[0;32m--> 112\u001b[0m     \u001b[38;5;28;01mreturn\u001b[39;00m \u001b[38;5;28mself\u001b[39m\u001b[38;5;241m.\u001b[39mpipe(\u001b[38;5;28mformat\u001b[39m\u001b[38;5;241m=\u001b[39m\u001b[38;5;124m'\u001b[39m\u001b[38;5;124msvg\u001b[39m\u001b[38;5;124m'\u001b[39m, encoding\u001b[38;5;241m=\u001b[39mSVG_ENCODING)\n",
      "File \u001b[0;32m~/anaconda3/lib/python3.11/site-packages/graphviz/piping.py:104\u001b[0m, in \u001b[0;36mPipe.pipe\u001b[0;34m(self, format, renderer, formatter, neato_no_op, quiet, engine, encoding)\u001b[0m\n\u001b[1;32m     55\u001b[0m \u001b[38;5;28;01mdef\u001b[39;00m \u001b[38;5;21mpipe\u001b[39m(\u001b[38;5;28mself\u001b[39m,\n\u001b[1;32m     56\u001b[0m          \u001b[38;5;28mformat\u001b[39m: typing\u001b[38;5;241m.\u001b[39mOptional[\u001b[38;5;28mstr\u001b[39m] \u001b[38;5;241m=\u001b[39m \u001b[38;5;28;01mNone\u001b[39;00m,\n\u001b[1;32m     57\u001b[0m          renderer: typing\u001b[38;5;241m.\u001b[39mOptional[\u001b[38;5;28mstr\u001b[39m] \u001b[38;5;241m=\u001b[39m \u001b[38;5;28;01mNone\u001b[39;00m,\n\u001b[0;32m   (...)\u001b[0m\n\u001b[1;32m     61\u001b[0m          engine: typing\u001b[38;5;241m.\u001b[39mOptional[\u001b[38;5;28mstr\u001b[39m] \u001b[38;5;241m=\u001b[39m \u001b[38;5;28;01mNone\u001b[39;00m,\n\u001b[1;32m     62\u001b[0m          encoding: typing\u001b[38;5;241m.\u001b[39mOptional[\u001b[38;5;28mstr\u001b[39m] \u001b[38;5;241m=\u001b[39m \u001b[38;5;28;01mNone\u001b[39;00m) \u001b[38;5;241m-\u001b[39m\u001b[38;5;241m>\u001b[39m typing\u001b[38;5;241m.\u001b[39mUnion[\u001b[38;5;28mbytes\u001b[39m, \u001b[38;5;28mstr\u001b[39m]:\n\u001b[1;32m     63\u001b[0m \u001b[38;5;250m    \u001b[39m\u001b[38;5;124;03m\"\"\"Return the source piped through the Graphviz layout command.\u001b[39;00m\n\u001b[1;32m     64\u001b[0m \n\u001b[1;32m     65\u001b[0m \u001b[38;5;124;03m    Args:\u001b[39;00m\n\u001b[0;32m   (...)\u001b[0m\n\u001b[1;32m    102\u001b[0m \u001b[38;5;124;03m        '<?xml version='\u001b[39;00m\n\u001b[1;32m    103\u001b[0m \u001b[38;5;124;03m    \"\"\"\u001b[39;00m\n\u001b[0;32m--> 104\u001b[0m     \u001b[38;5;28;01mreturn\u001b[39;00m \u001b[38;5;28mself\u001b[39m\u001b[38;5;241m.\u001b[39m_pipe_legacy(\u001b[38;5;28mformat\u001b[39m,\n\u001b[1;32m    105\u001b[0m                              renderer\u001b[38;5;241m=\u001b[39mrenderer,\n\u001b[1;32m    106\u001b[0m                              formatter\u001b[38;5;241m=\u001b[39mformatter,\n\u001b[1;32m    107\u001b[0m                              neato_no_op\u001b[38;5;241m=\u001b[39mneato_no_op,\n\u001b[1;32m    108\u001b[0m                              quiet\u001b[38;5;241m=\u001b[39mquiet,\n\u001b[1;32m    109\u001b[0m                              engine\u001b[38;5;241m=\u001b[39mengine,\n\u001b[1;32m    110\u001b[0m                              encoding\u001b[38;5;241m=\u001b[39mencoding)\n",
      "File \u001b[0;32m~/anaconda3/lib/python3.11/site-packages/graphviz/_tools.py:171\u001b[0m, in \u001b[0;36mdeprecate_positional_args.<locals>.decorator.<locals>.wrapper\u001b[0;34m(*args, **kwargs)\u001b[0m\n\u001b[1;32m    162\u001b[0m     wanted \u001b[38;5;241m=\u001b[39m \u001b[38;5;124m'\u001b[39m\u001b[38;5;124m, \u001b[39m\u001b[38;5;124m'\u001b[39m\u001b[38;5;241m.\u001b[39mjoin(\u001b[38;5;124mf\u001b[39m\u001b[38;5;124m'\u001b[39m\u001b[38;5;132;01m{\u001b[39;00mname\u001b[38;5;132;01m}\u001b[39;00m\u001b[38;5;124m=\u001b[39m\u001b[38;5;132;01m{\u001b[39;00mvalue\u001b[38;5;132;01m!r}\u001b[39;00m\u001b[38;5;124m'\u001b[39m\n\u001b[1;32m    163\u001b[0m                        \u001b[38;5;28;01mfor\u001b[39;00m name, value \u001b[38;5;129;01min\u001b[39;00m deprecated\u001b[38;5;241m.\u001b[39mitems())\n\u001b[1;32m    164\u001b[0m     warnings\u001b[38;5;241m.\u001b[39mwarn(\u001b[38;5;124mf\u001b[39m\u001b[38;5;124m'\u001b[39m\u001b[38;5;124mThe signature of \u001b[39m\u001b[38;5;132;01m{\u001b[39;00mfunc\u001b[38;5;241m.\u001b[39m\u001b[38;5;18m__name__\u001b[39m\u001b[38;5;132;01m}\u001b[39;00m\u001b[38;5;124m will be reduced\u001b[39m\u001b[38;5;124m'\u001b[39m\n\u001b[1;32m    165\u001b[0m                   \u001b[38;5;124mf\u001b[39m\u001b[38;5;124m'\u001b[39m\u001b[38;5;124m to \u001b[39m\u001b[38;5;132;01m{\u001b[39;00msupported_number\u001b[38;5;132;01m}\u001b[39;00m\u001b[38;5;124m positional args\u001b[39m\u001b[38;5;124m'\u001b[39m\n\u001b[1;32m    166\u001b[0m                   \u001b[38;5;124mf\u001b[39m\u001b[38;5;124m'\u001b[39m\u001b[38;5;124m \u001b[39m\u001b[38;5;132;01m{\u001b[39;00m\u001b[38;5;28mlist\u001b[39m(supported)\u001b[38;5;132;01m}\u001b[39;00m\u001b[38;5;124m: pass \u001b[39m\u001b[38;5;132;01m{\u001b[39;00mwanted\u001b[38;5;132;01m}\u001b[39;00m\u001b[38;5;124m'\u001b[39m\n\u001b[1;32m    167\u001b[0m                   \u001b[38;5;124m'\u001b[39m\u001b[38;5;124m as keyword arg(s)\u001b[39m\u001b[38;5;124m'\u001b[39m,\n\u001b[1;32m    168\u001b[0m                   stacklevel\u001b[38;5;241m=\u001b[39mstacklevel,\n\u001b[1;32m    169\u001b[0m                   category\u001b[38;5;241m=\u001b[39mcategory)\n\u001b[0;32m--> 171\u001b[0m \u001b[38;5;28;01mreturn\u001b[39;00m func(\u001b[38;5;241m*\u001b[39margs, \u001b[38;5;241m*\u001b[39m\u001b[38;5;241m*\u001b[39mkwargs)\n",
      "File \u001b[0;32m~/anaconda3/lib/python3.11/site-packages/graphviz/piping.py:121\u001b[0m, in \u001b[0;36mPipe._pipe_legacy\u001b[0;34m(self, format, renderer, formatter, neato_no_op, quiet, engine, encoding)\u001b[0m\n\u001b[1;32m    112\u001b[0m \u001b[38;5;129m@_tools\u001b[39m\u001b[38;5;241m.\u001b[39mdeprecate_positional_args(supported_number\u001b[38;5;241m=\u001b[39m\u001b[38;5;241m2\u001b[39m)\n\u001b[1;32m    113\u001b[0m \u001b[38;5;28;01mdef\u001b[39;00m \u001b[38;5;21m_pipe_legacy\u001b[39m(\u001b[38;5;28mself\u001b[39m,\n\u001b[1;32m    114\u001b[0m                  \u001b[38;5;28mformat\u001b[39m: typing\u001b[38;5;241m.\u001b[39mOptional[\u001b[38;5;28mstr\u001b[39m] \u001b[38;5;241m=\u001b[39m \u001b[38;5;28;01mNone\u001b[39;00m,\n\u001b[0;32m   (...)\u001b[0m\n\u001b[1;32m    119\u001b[0m                  engine: typing\u001b[38;5;241m.\u001b[39mOptional[\u001b[38;5;28mstr\u001b[39m] \u001b[38;5;241m=\u001b[39m \u001b[38;5;28;01mNone\u001b[39;00m,\n\u001b[1;32m    120\u001b[0m                  encoding: typing\u001b[38;5;241m.\u001b[39mOptional[\u001b[38;5;28mstr\u001b[39m] \u001b[38;5;241m=\u001b[39m \u001b[38;5;28;01mNone\u001b[39;00m) \u001b[38;5;241m-\u001b[39m\u001b[38;5;241m>\u001b[39m typing\u001b[38;5;241m.\u001b[39mUnion[\u001b[38;5;28mbytes\u001b[39m, \u001b[38;5;28mstr\u001b[39m]:\n\u001b[0;32m--> 121\u001b[0m     \u001b[38;5;28;01mreturn\u001b[39;00m \u001b[38;5;28mself\u001b[39m\u001b[38;5;241m.\u001b[39m_pipe_future(\u001b[38;5;28mformat\u001b[39m,\n\u001b[1;32m    122\u001b[0m                              renderer\u001b[38;5;241m=\u001b[39mrenderer,\n\u001b[1;32m    123\u001b[0m                              formatter\u001b[38;5;241m=\u001b[39mformatter,\n\u001b[1;32m    124\u001b[0m                              neato_no_op\u001b[38;5;241m=\u001b[39mneato_no_op,\n\u001b[1;32m    125\u001b[0m                              quiet\u001b[38;5;241m=\u001b[39mquiet,\n\u001b[1;32m    126\u001b[0m                              engine\u001b[38;5;241m=\u001b[39mengine,\n\u001b[1;32m    127\u001b[0m                              encoding\u001b[38;5;241m=\u001b[39mencoding)\n",
      "File \u001b[0;32m~/anaconda3/lib/python3.11/site-packages/graphviz/piping.py:149\u001b[0m, in \u001b[0;36mPipe._pipe_future\u001b[0;34m(self, format, renderer, formatter, neato_no_op, quiet, engine, encoding)\u001b[0m\n\u001b[1;32m    146\u001b[0m \u001b[38;5;28;01mif\u001b[39;00m encoding \u001b[38;5;129;01mis\u001b[39;00m \u001b[38;5;129;01mnot\u001b[39;00m \u001b[38;5;28;01mNone\u001b[39;00m:\n\u001b[1;32m    147\u001b[0m     \u001b[38;5;28;01mif\u001b[39;00m codecs\u001b[38;5;241m.\u001b[39mlookup(encoding) \u001b[38;5;129;01mis\u001b[39;00m codecs\u001b[38;5;241m.\u001b[39mlookup(\u001b[38;5;28mself\u001b[39m\u001b[38;5;241m.\u001b[39mencoding):\n\u001b[1;32m    148\u001b[0m         \u001b[38;5;66;03m# common case: both stdin and stdout need the same encoding\u001b[39;00m\n\u001b[0;32m--> 149\u001b[0m         \u001b[38;5;28;01mreturn\u001b[39;00m \u001b[38;5;28mself\u001b[39m\u001b[38;5;241m.\u001b[39m_pipe_lines_string(\u001b[38;5;241m*\u001b[39margs, encoding\u001b[38;5;241m=\u001b[39mencoding, \u001b[38;5;241m*\u001b[39m\u001b[38;5;241m*\u001b[39mkwargs)\n\u001b[1;32m    150\u001b[0m     \u001b[38;5;28;01mtry\u001b[39;00m:\n\u001b[1;32m    151\u001b[0m         raw \u001b[38;5;241m=\u001b[39m \u001b[38;5;28mself\u001b[39m\u001b[38;5;241m.\u001b[39m_pipe_lines(\u001b[38;5;241m*\u001b[39margs, input_encoding\u001b[38;5;241m=\u001b[39m\u001b[38;5;28mself\u001b[39m\u001b[38;5;241m.\u001b[39mencoding, \u001b[38;5;241m*\u001b[39m\u001b[38;5;241m*\u001b[39mkwargs)\n",
      "File \u001b[0;32m~/anaconda3/lib/python3.11/site-packages/graphviz/backend/piping.py:212\u001b[0m, in \u001b[0;36mpipe_lines_string\u001b[0;34m(engine, format, input_lines, encoding, renderer, formatter, neato_no_op, quiet)\u001b[0m\n\u001b[1;32m    206\u001b[0m cmd \u001b[38;5;241m=\u001b[39m dot_command\u001b[38;5;241m.\u001b[39mcommand(engine, \u001b[38;5;28mformat\u001b[39m,\n\u001b[1;32m    207\u001b[0m                           renderer\u001b[38;5;241m=\u001b[39mrenderer,\n\u001b[1;32m    208\u001b[0m                           formatter\u001b[38;5;241m=\u001b[39mformatter,\n\u001b[1;32m    209\u001b[0m                           neato_no_op\u001b[38;5;241m=\u001b[39mneato_no_op)\n\u001b[1;32m    210\u001b[0m kwargs \u001b[38;5;241m=\u001b[39m {\u001b[38;5;124m'\u001b[39m\u001b[38;5;124minput_lines\u001b[39m\u001b[38;5;124m'\u001b[39m: input_lines, \u001b[38;5;124m'\u001b[39m\u001b[38;5;124mencoding\u001b[39m\u001b[38;5;124m'\u001b[39m: encoding}\n\u001b[0;32m--> 212\u001b[0m proc \u001b[38;5;241m=\u001b[39m execute\u001b[38;5;241m.\u001b[39mrun_check(cmd, capture_output\u001b[38;5;241m=\u001b[39m\u001b[38;5;28;01mTrue\u001b[39;00m, quiet\u001b[38;5;241m=\u001b[39mquiet, \u001b[38;5;241m*\u001b[39m\u001b[38;5;241m*\u001b[39mkwargs)\n\u001b[1;32m    213\u001b[0m \u001b[38;5;28;01mreturn\u001b[39;00m proc\u001b[38;5;241m.\u001b[39mstdout\n",
      "File \u001b[0;32m~/anaconda3/lib/python3.11/site-packages/graphviz/backend/execute.py:81\u001b[0m, in \u001b[0;36mrun_check\u001b[0;34m(cmd, input_lines, encoding, quiet, **kwargs)\u001b[0m\n\u001b[1;32m     79\u001b[0m \u001b[38;5;28;01mexcept\u001b[39;00m \u001b[38;5;167;01mOSError\u001b[39;00m \u001b[38;5;28;01mas\u001b[39;00m e:\n\u001b[1;32m     80\u001b[0m     \u001b[38;5;28;01mif\u001b[39;00m e\u001b[38;5;241m.\u001b[39merrno \u001b[38;5;241m==\u001b[39m errno\u001b[38;5;241m.\u001b[39mENOENT:\n\u001b[0;32m---> 81\u001b[0m         \u001b[38;5;28;01mraise\u001b[39;00m ExecutableNotFound(cmd) \u001b[38;5;28;01mfrom\u001b[39;00m \u001b[38;5;21;01me\u001b[39;00m\n\u001b[1;32m     82\u001b[0m     \u001b[38;5;28;01mraise\u001b[39;00m\n\u001b[1;32m     84\u001b[0m \u001b[38;5;28;01mif\u001b[39;00m \u001b[38;5;129;01mnot\u001b[39;00m quiet \u001b[38;5;129;01mand\u001b[39;00m proc\u001b[38;5;241m.\u001b[39mstderr:\n",
      "\u001b[0;31mExecutableNotFound\u001b[0m: failed to execute PosixPath('dot'), make sure the Graphviz executables are on your systems' PATH"
     ]
    },
    {
     "data": {
      "text/plain": [
       "<graphviz.graphs.Digraph at 0x164ee7310>"
      ]
     },
     "execution_count": 6,
     "metadata": {},
     "output_type": "execute_result"
    }
   ],
   "source": [
    "pymc.model_to_graphviz(OldFaithful)"
   ]
  },
  {
   "cell_type": "code",
   "execution_count": 7,
   "id": "60458c23",
   "metadata": {},
   "outputs": [
    {
     "ename": "ExecutableNotFound",
     "evalue": "failed to execute PosixPath('dot'), make sure the Graphviz executables are on your systems' PATH",
     "output_type": "error",
     "traceback": [
      "\u001b[0;31m---------------------------------------------------------------------------\u001b[0m",
      "\u001b[0;31mFileNotFoundError\u001b[0m                         Traceback (most recent call last)",
      "File \u001b[0;32m~/anaconda3/lib/python3.11/site-packages/graphviz/backend/execute.py:76\u001b[0m, in \u001b[0;36mrun_check\u001b[0;34m(cmd, input_lines, encoding, quiet, **kwargs)\u001b[0m\n\u001b[1;32m     75\u001b[0m         kwargs[\u001b[38;5;124m'\u001b[39m\u001b[38;5;124mstdout\u001b[39m\u001b[38;5;124m'\u001b[39m] \u001b[38;5;241m=\u001b[39m kwargs[\u001b[38;5;124m'\u001b[39m\u001b[38;5;124mstderr\u001b[39m\u001b[38;5;124m'\u001b[39m] \u001b[38;5;241m=\u001b[39m subprocess\u001b[38;5;241m.\u001b[39mPIPE\n\u001b[0;32m---> 76\u001b[0m     proc \u001b[38;5;241m=\u001b[39m _run_input_lines(cmd, input_lines, kwargs\u001b[38;5;241m=\u001b[39mkwargs)\n\u001b[1;32m     77\u001b[0m \u001b[38;5;28;01melse\u001b[39;00m:\n",
      "File \u001b[0;32m~/anaconda3/lib/python3.11/site-packages/graphviz/backend/execute.py:96\u001b[0m, in \u001b[0;36m_run_input_lines\u001b[0;34m(cmd, input_lines, kwargs)\u001b[0m\n\u001b[1;32m     95\u001b[0m \u001b[38;5;28;01mdef\u001b[39;00m \u001b[38;5;21m_run_input_lines\u001b[39m(cmd, input_lines, \u001b[38;5;241m*\u001b[39m, kwargs):\n\u001b[0;32m---> 96\u001b[0m     popen \u001b[38;5;241m=\u001b[39m subprocess\u001b[38;5;241m.\u001b[39mPopen(cmd, stdin\u001b[38;5;241m=\u001b[39msubprocess\u001b[38;5;241m.\u001b[39mPIPE, \u001b[38;5;241m*\u001b[39m\u001b[38;5;241m*\u001b[39mkwargs)\n\u001b[1;32m     98\u001b[0m     stdin_write \u001b[38;5;241m=\u001b[39m popen\u001b[38;5;241m.\u001b[39mstdin\u001b[38;5;241m.\u001b[39mwrite\n",
      "File \u001b[0;32m~/anaconda3/lib/python3.11/subprocess.py:1024\u001b[0m, in \u001b[0;36mPopen.__init__\u001b[0;34m(self, args, bufsize, executable, stdin, stdout, stderr, preexec_fn, close_fds, shell, cwd, env, universal_newlines, startupinfo, creationflags, restore_signals, start_new_session, pass_fds, user, group, extra_groups, encoding, errors, text, umask, pipesize, process_group)\u001b[0m\n\u001b[1;32m   1021\u001b[0m             \u001b[38;5;28mself\u001b[39m\u001b[38;5;241m.\u001b[39mstderr \u001b[38;5;241m=\u001b[39m io\u001b[38;5;241m.\u001b[39mTextIOWrapper(\u001b[38;5;28mself\u001b[39m\u001b[38;5;241m.\u001b[39mstderr,\n\u001b[1;32m   1022\u001b[0m                     encoding\u001b[38;5;241m=\u001b[39mencoding, errors\u001b[38;5;241m=\u001b[39merrors)\n\u001b[0;32m-> 1024\u001b[0m     \u001b[38;5;28mself\u001b[39m\u001b[38;5;241m.\u001b[39m_execute_child(args, executable, preexec_fn, close_fds,\n\u001b[1;32m   1025\u001b[0m                         pass_fds, cwd, env,\n\u001b[1;32m   1026\u001b[0m                         startupinfo, creationflags, shell,\n\u001b[1;32m   1027\u001b[0m                         p2cread, p2cwrite,\n\u001b[1;32m   1028\u001b[0m                         c2pread, c2pwrite,\n\u001b[1;32m   1029\u001b[0m                         errread, errwrite,\n\u001b[1;32m   1030\u001b[0m                         restore_signals,\n\u001b[1;32m   1031\u001b[0m                         gid, gids, uid, umask,\n\u001b[1;32m   1032\u001b[0m                         start_new_session, process_group)\n\u001b[1;32m   1033\u001b[0m \u001b[38;5;28;01mexcept\u001b[39;00m:\n\u001b[1;32m   1034\u001b[0m     \u001b[38;5;66;03m# Cleanup if the child failed starting.\u001b[39;00m\n",
      "File \u001b[0;32m~/anaconda3/lib/python3.11/subprocess.py:1917\u001b[0m, in \u001b[0;36mPopen._execute_child\u001b[0;34m(self, args, executable, preexec_fn, close_fds, pass_fds, cwd, env, startupinfo, creationflags, shell, p2cread, p2cwrite, c2pread, c2pwrite, errread, errwrite, restore_signals, gid, gids, uid, umask, start_new_session, process_group)\u001b[0m\n\u001b[1;32m   1916\u001b[0m         err_msg \u001b[38;5;241m=\u001b[39m os\u001b[38;5;241m.\u001b[39mstrerror(errno_num)\n\u001b[0;32m-> 1917\u001b[0m     \u001b[38;5;28;01mraise\u001b[39;00m child_exception_type(errno_num, err_msg, err_filename)\n\u001b[1;32m   1918\u001b[0m \u001b[38;5;28;01mraise\u001b[39;00m child_exception_type(err_msg)\n",
      "\u001b[0;31mFileNotFoundError\u001b[0m: [Errno 2] No such file or directory: PosixPath('dot')",
      "\nThe above exception was the direct cause of the following exception:\n",
      "\u001b[0;31mExecutableNotFound\u001b[0m                        Traceback (most recent call last)",
      "File \u001b[0;32m~/anaconda3/lib/python3.11/site-packages/IPython/core/formatters.py:974\u001b[0m, in \u001b[0;36mMimeBundleFormatter.__call__\u001b[0;34m(self, obj, include, exclude)\u001b[0m\n\u001b[1;32m    971\u001b[0m     method \u001b[38;5;241m=\u001b[39m get_real_method(obj, \u001b[38;5;28mself\u001b[39m\u001b[38;5;241m.\u001b[39mprint_method)\n\u001b[1;32m    973\u001b[0m     \u001b[38;5;28;01mif\u001b[39;00m method \u001b[38;5;129;01mis\u001b[39;00m \u001b[38;5;129;01mnot\u001b[39;00m \u001b[38;5;28;01mNone\u001b[39;00m:\n\u001b[0;32m--> 974\u001b[0m         \u001b[38;5;28;01mreturn\u001b[39;00m method(include\u001b[38;5;241m=\u001b[39minclude, exclude\u001b[38;5;241m=\u001b[39mexclude)\n\u001b[1;32m    975\u001b[0m     \u001b[38;5;28;01mreturn\u001b[39;00m \u001b[38;5;28;01mNone\u001b[39;00m\n\u001b[1;32m    976\u001b[0m \u001b[38;5;28;01melse\u001b[39;00m:\n",
      "File \u001b[0;32m~/anaconda3/lib/python3.11/site-packages/graphviz/jupyter_integration.py:98\u001b[0m, in \u001b[0;36mJupyterIntegration._repr_mimebundle_\u001b[0;34m(self, include, exclude, **_)\u001b[0m\n\u001b[1;32m     96\u001b[0m include \u001b[38;5;241m=\u001b[39m \u001b[38;5;28mset\u001b[39m(include) \u001b[38;5;28;01mif\u001b[39;00m include \u001b[38;5;129;01mis\u001b[39;00m \u001b[38;5;129;01mnot\u001b[39;00m \u001b[38;5;28;01mNone\u001b[39;00m \u001b[38;5;28;01melse\u001b[39;00m {\u001b[38;5;28mself\u001b[39m\u001b[38;5;241m.\u001b[39m_jupyter_mimetype}\n\u001b[1;32m     97\u001b[0m include \u001b[38;5;241m-\u001b[39m\u001b[38;5;241m=\u001b[39m \u001b[38;5;28mset\u001b[39m(exclude \u001b[38;5;129;01mor\u001b[39;00m [])\n\u001b[0;32m---> 98\u001b[0m \u001b[38;5;28;01mreturn\u001b[39;00m {mimetype: \u001b[38;5;28mgetattr\u001b[39m(\u001b[38;5;28mself\u001b[39m, method_name)()\n\u001b[1;32m     99\u001b[0m         \u001b[38;5;28;01mfor\u001b[39;00m mimetype, method_name \u001b[38;5;129;01min\u001b[39;00m MIME_TYPES\u001b[38;5;241m.\u001b[39mitems()\n\u001b[1;32m    100\u001b[0m         \u001b[38;5;28;01mif\u001b[39;00m mimetype \u001b[38;5;129;01min\u001b[39;00m include}\n",
      "File \u001b[0;32m~/anaconda3/lib/python3.11/site-packages/graphviz/jupyter_integration.py:98\u001b[0m, in \u001b[0;36m<dictcomp>\u001b[0;34m(.0)\u001b[0m\n\u001b[1;32m     96\u001b[0m include \u001b[38;5;241m=\u001b[39m \u001b[38;5;28mset\u001b[39m(include) \u001b[38;5;28;01mif\u001b[39;00m include \u001b[38;5;129;01mis\u001b[39;00m \u001b[38;5;129;01mnot\u001b[39;00m \u001b[38;5;28;01mNone\u001b[39;00m \u001b[38;5;28;01melse\u001b[39;00m {\u001b[38;5;28mself\u001b[39m\u001b[38;5;241m.\u001b[39m_jupyter_mimetype}\n\u001b[1;32m     97\u001b[0m include \u001b[38;5;241m-\u001b[39m\u001b[38;5;241m=\u001b[39m \u001b[38;5;28mset\u001b[39m(exclude \u001b[38;5;129;01mor\u001b[39;00m [])\n\u001b[0;32m---> 98\u001b[0m \u001b[38;5;28;01mreturn\u001b[39;00m {mimetype: \u001b[38;5;28mgetattr\u001b[39m(\u001b[38;5;28mself\u001b[39m, method_name)()\n\u001b[1;32m     99\u001b[0m         \u001b[38;5;28;01mfor\u001b[39;00m mimetype, method_name \u001b[38;5;129;01min\u001b[39;00m MIME_TYPES\u001b[38;5;241m.\u001b[39mitems()\n\u001b[1;32m    100\u001b[0m         \u001b[38;5;28;01mif\u001b[39;00m mimetype \u001b[38;5;129;01min\u001b[39;00m include}\n",
      "File \u001b[0;32m~/anaconda3/lib/python3.11/site-packages/graphviz/jupyter_integration.py:112\u001b[0m, in \u001b[0;36mJupyterIntegration._repr_image_svg_xml\u001b[0;34m(self)\u001b[0m\n\u001b[1;32m    110\u001b[0m \u001b[38;5;28;01mdef\u001b[39;00m \u001b[38;5;21m_repr_image_svg_xml\u001b[39m(\u001b[38;5;28mself\u001b[39m) \u001b[38;5;241m-\u001b[39m\u001b[38;5;241m>\u001b[39m \u001b[38;5;28mstr\u001b[39m:\n\u001b[1;32m    111\u001b[0m \u001b[38;5;250m    \u001b[39m\u001b[38;5;124;03m\"\"\"Return the rendered graph as SVG string.\"\"\"\u001b[39;00m\n\u001b[0;32m--> 112\u001b[0m     \u001b[38;5;28;01mreturn\u001b[39;00m \u001b[38;5;28mself\u001b[39m\u001b[38;5;241m.\u001b[39mpipe(\u001b[38;5;28mformat\u001b[39m\u001b[38;5;241m=\u001b[39m\u001b[38;5;124m'\u001b[39m\u001b[38;5;124msvg\u001b[39m\u001b[38;5;124m'\u001b[39m, encoding\u001b[38;5;241m=\u001b[39mSVG_ENCODING)\n",
      "File \u001b[0;32m~/anaconda3/lib/python3.11/site-packages/graphviz/piping.py:104\u001b[0m, in \u001b[0;36mPipe.pipe\u001b[0;34m(self, format, renderer, formatter, neato_no_op, quiet, engine, encoding)\u001b[0m\n\u001b[1;32m     55\u001b[0m \u001b[38;5;28;01mdef\u001b[39;00m \u001b[38;5;21mpipe\u001b[39m(\u001b[38;5;28mself\u001b[39m,\n\u001b[1;32m     56\u001b[0m          \u001b[38;5;28mformat\u001b[39m: typing\u001b[38;5;241m.\u001b[39mOptional[\u001b[38;5;28mstr\u001b[39m] \u001b[38;5;241m=\u001b[39m \u001b[38;5;28;01mNone\u001b[39;00m,\n\u001b[1;32m     57\u001b[0m          renderer: typing\u001b[38;5;241m.\u001b[39mOptional[\u001b[38;5;28mstr\u001b[39m] \u001b[38;5;241m=\u001b[39m \u001b[38;5;28;01mNone\u001b[39;00m,\n\u001b[0;32m   (...)\u001b[0m\n\u001b[1;32m     61\u001b[0m          engine: typing\u001b[38;5;241m.\u001b[39mOptional[\u001b[38;5;28mstr\u001b[39m] \u001b[38;5;241m=\u001b[39m \u001b[38;5;28;01mNone\u001b[39;00m,\n\u001b[1;32m     62\u001b[0m          encoding: typing\u001b[38;5;241m.\u001b[39mOptional[\u001b[38;5;28mstr\u001b[39m] \u001b[38;5;241m=\u001b[39m \u001b[38;5;28;01mNone\u001b[39;00m) \u001b[38;5;241m-\u001b[39m\u001b[38;5;241m>\u001b[39m typing\u001b[38;5;241m.\u001b[39mUnion[\u001b[38;5;28mbytes\u001b[39m, \u001b[38;5;28mstr\u001b[39m]:\n\u001b[1;32m     63\u001b[0m \u001b[38;5;250m    \u001b[39m\u001b[38;5;124;03m\"\"\"Return the source piped through the Graphviz layout command.\u001b[39;00m\n\u001b[1;32m     64\u001b[0m \n\u001b[1;32m     65\u001b[0m \u001b[38;5;124;03m    Args:\u001b[39;00m\n\u001b[0;32m   (...)\u001b[0m\n\u001b[1;32m    102\u001b[0m \u001b[38;5;124;03m        '<?xml version='\u001b[39;00m\n\u001b[1;32m    103\u001b[0m \u001b[38;5;124;03m    \"\"\"\u001b[39;00m\n\u001b[0;32m--> 104\u001b[0m     \u001b[38;5;28;01mreturn\u001b[39;00m \u001b[38;5;28mself\u001b[39m\u001b[38;5;241m.\u001b[39m_pipe_legacy(\u001b[38;5;28mformat\u001b[39m,\n\u001b[1;32m    105\u001b[0m                              renderer\u001b[38;5;241m=\u001b[39mrenderer,\n\u001b[1;32m    106\u001b[0m                              formatter\u001b[38;5;241m=\u001b[39mformatter,\n\u001b[1;32m    107\u001b[0m                              neato_no_op\u001b[38;5;241m=\u001b[39mneato_no_op,\n\u001b[1;32m    108\u001b[0m                              quiet\u001b[38;5;241m=\u001b[39mquiet,\n\u001b[1;32m    109\u001b[0m                              engine\u001b[38;5;241m=\u001b[39mengine,\n\u001b[1;32m    110\u001b[0m                              encoding\u001b[38;5;241m=\u001b[39mencoding)\n",
      "File \u001b[0;32m~/anaconda3/lib/python3.11/site-packages/graphviz/_tools.py:171\u001b[0m, in \u001b[0;36mdeprecate_positional_args.<locals>.decorator.<locals>.wrapper\u001b[0;34m(*args, **kwargs)\u001b[0m\n\u001b[1;32m    162\u001b[0m     wanted \u001b[38;5;241m=\u001b[39m \u001b[38;5;124m'\u001b[39m\u001b[38;5;124m, \u001b[39m\u001b[38;5;124m'\u001b[39m\u001b[38;5;241m.\u001b[39mjoin(\u001b[38;5;124mf\u001b[39m\u001b[38;5;124m'\u001b[39m\u001b[38;5;132;01m{\u001b[39;00mname\u001b[38;5;132;01m}\u001b[39;00m\u001b[38;5;124m=\u001b[39m\u001b[38;5;132;01m{\u001b[39;00mvalue\u001b[38;5;132;01m!r}\u001b[39;00m\u001b[38;5;124m'\u001b[39m\n\u001b[1;32m    163\u001b[0m                        \u001b[38;5;28;01mfor\u001b[39;00m name, value \u001b[38;5;129;01min\u001b[39;00m deprecated\u001b[38;5;241m.\u001b[39mitems())\n\u001b[1;32m    164\u001b[0m     warnings\u001b[38;5;241m.\u001b[39mwarn(\u001b[38;5;124mf\u001b[39m\u001b[38;5;124m'\u001b[39m\u001b[38;5;124mThe signature of \u001b[39m\u001b[38;5;132;01m{\u001b[39;00mfunc\u001b[38;5;241m.\u001b[39m\u001b[38;5;18m__name__\u001b[39m\u001b[38;5;132;01m}\u001b[39;00m\u001b[38;5;124m will be reduced\u001b[39m\u001b[38;5;124m'\u001b[39m\n\u001b[1;32m    165\u001b[0m                   \u001b[38;5;124mf\u001b[39m\u001b[38;5;124m'\u001b[39m\u001b[38;5;124m to \u001b[39m\u001b[38;5;132;01m{\u001b[39;00msupported_number\u001b[38;5;132;01m}\u001b[39;00m\u001b[38;5;124m positional args\u001b[39m\u001b[38;5;124m'\u001b[39m\n\u001b[1;32m    166\u001b[0m                   \u001b[38;5;124mf\u001b[39m\u001b[38;5;124m'\u001b[39m\u001b[38;5;124m \u001b[39m\u001b[38;5;132;01m{\u001b[39;00m\u001b[38;5;28mlist\u001b[39m(supported)\u001b[38;5;132;01m}\u001b[39;00m\u001b[38;5;124m: pass \u001b[39m\u001b[38;5;132;01m{\u001b[39;00mwanted\u001b[38;5;132;01m}\u001b[39;00m\u001b[38;5;124m'\u001b[39m\n\u001b[1;32m    167\u001b[0m                   \u001b[38;5;124m'\u001b[39m\u001b[38;5;124m as keyword arg(s)\u001b[39m\u001b[38;5;124m'\u001b[39m,\n\u001b[1;32m    168\u001b[0m                   stacklevel\u001b[38;5;241m=\u001b[39mstacklevel,\n\u001b[1;32m    169\u001b[0m                   category\u001b[38;5;241m=\u001b[39mcategory)\n\u001b[0;32m--> 171\u001b[0m \u001b[38;5;28;01mreturn\u001b[39;00m func(\u001b[38;5;241m*\u001b[39margs, \u001b[38;5;241m*\u001b[39m\u001b[38;5;241m*\u001b[39mkwargs)\n",
      "File \u001b[0;32m~/anaconda3/lib/python3.11/site-packages/graphviz/piping.py:121\u001b[0m, in \u001b[0;36mPipe._pipe_legacy\u001b[0;34m(self, format, renderer, formatter, neato_no_op, quiet, engine, encoding)\u001b[0m\n\u001b[1;32m    112\u001b[0m \u001b[38;5;129m@_tools\u001b[39m\u001b[38;5;241m.\u001b[39mdeprecate_positional_args(supported_number\u001b[38;5;241m=\u001b[39m\u001b[38;5;241m2\u001b[39m)\n\u001b[1;32m    113\u001b[0m \u001b[38;5;28;01mdef\u001b[39;00m \u001b[38;5;21m_pipe_legacy\u001b[39m(\u001b[38;5;28mself\u001b[39m,\n\u001b[1;32m    114\u001b[0m                  \u001b[38;5;28mformat\u001b[39m: typing\u001b[38;5;241m.\u001b[39mOptional[\u001b[38;5;28mstr\u001b[39m] \u001b[38;5;241m=\u001b[39m \u001b[38;5;28;01mNone\u001b[39;00m,\n\u001b[0;32m   (...)\u001b[0m\n\u001b[1;32m    119\u001b[0m                  engine: typing\u001b[38;5;241m.\u001b[39mOptional[\u001b[38;5;28mstr\u001b[39m] \u001b[38;5;241m=\u001b[39m \u001b[38;5;28;01mNone\u001b[39;00m,\n\u001b[1;32m    120\u001b[0m                  encoding: typing\u001b[38;5;241m.\u001b[39mOptional[\u001b[38;5;28mstr\u001b[39m] \u001b[38;5;241m=\u001b[39m \u001b[38;5;28;01mNone\u001b[39;00m) \u001b[38;5;241m-\u001b[39m\u001b[38;5;241m>\u001b[39m typing\u001b[38;5;241m.\u001b[39mUnion[\u001b[38;5;28mbytes\u001b[39m, \u001b[38;5;28mstr\u001b[39m]:\n\u001b[0;32m--> 121\u001b[0m     \u001b[38;5;28;01mreturn\u001b[39;00m \u001b[38;5;28mself\u001b[39m\u001b[38;5;241m.\u001b[39m_pipe_future(\u001b[38;5;28mformat\u001b[39m,\n\u001b[1;32m    122\u001b[0m                              renderer\u001b[38;5;241m=\u001b[39mrenderer,\n\u001b[1;32m    123\u001b[0m                              formatter\u001b[38;5;241m=\u001b[39mformatter,\n\u001b[1;32m    124\u001b[0m                              neato_no_op\u001b[38;5;241m=\u001b[39mneato_no_op,\n\u001b[1;32m    125\u001b[0m                              quiet\u001b[38;5;241m=\u001b[39mquiet,\n\u001b[1;32m    126\u001b[0m                              engine\u001b[38;5;241m=\u001b[39mengine,\n\u001b[1;32m    127\u001b[0m                              encoding\u001b[38;5;241m=\u001b[39mencoding)\n",
      "File \u001b[0;32m~/anaconda3/lib/python3.11/site-packages/graphviz/piping.py:149\u001b[0m, in \u001b[0;36mPipe._pipe_future\u001b[0;34m(self, format, renderer, formatter, neato_no_op, quiet, engine, encoding)\u001b[0m\n\u001b[1;32m    146\u001b[0m \u001b[38;5;28;01mif\u001b[39;00m encoding \u001b[38;5;129;01mis\u001b[39;00m \u001b[38;5;129;01mnot\u001b[39;00m \u001b[38;5;28;01mNone\u001b[39;00m:\n\u001b[1;32m    147\u001b[0m     \u001b[38;5;28;01mif\u001b[39;00m codecs\u001b[38;5;241m.\u001b[39mlookup(encoding) \u001b[38;5;129;01mis\u001b[39;00m codecs\u001b[38;5;241m.\u001b[39mlookup(\u001b[38;5;28mself\u001b[39m\u001b[38;5;241m.\u001b[39mencoding):\n\u001b[1;32m    148\u001b[0m         \u001b[38;5;66;03m# common case: both stdin and stdout need the same encoding\u001b[39;00m\n\u001b[0;32m--> 149\u001b[0m         \u001b[38;5;28;01mreturn\u001b[39;00m \u001b[38;5;28mself\u001b[39m\u001b[38;5;241m.\u001b[39m_pipe_lines_string(\u001b[38;5;241m*\u001b[39margs, encoding\u001b[38;5;241m=\u001b[39mencoding, \u001b[38;5;241m*\u001b[39m\u001b[38;5;241m*\u001b[39mkwargs)\n\u001b[1;32m    150\u001b[0m     \u001b[38;5;28;01mtry\u001b[39;00m:\n\u001b[1;32m    151\u001b[0m         raw \u001b[38;5;241m=\u001b[39m \u001b[38;5;28mself\u001b[39m\u001b[38;5;241m.\u001b[39m_pipe_lines(\u001b[38;5;241m*\u001b[39margs, input_encoding\u001b[38;5;241m=\u001b[39m\u001b[38;5;28mself\u001b[39m\u001b[38;5;241m.\u001b[39mencoding, \u001b[38;5;241m*\u001b[39m\u001b[38;5;241m*\u001b[39mkwargs)\n",
      "File \u001b[0;32m~/anaconda3/lib/python3.11/site-packages/graphviz/backend/piping.py:212\u001b[0m, in \u001b[0;36mpipe_lines_string\u001b[0;34m(engine, format, input_lines, encoding, renderer, formatter, neato_no_op, quiet)\u001b[0m\n\u001b[1;32m    206\u001b[0m cmd \u001b[38;5;241m=\u001b[39m dot_command\u001b[38;5;241m.\u001b[39mcommand(engine, \u001b[38;5;28mformat\u001b[39m,\n\u001b[1;32m    207\u001b[0m                           renderer\u001b[38;5;241m=\u001b[39mrenderer,\n\u001b[1;32m    208\u001b[0m                           formatter\u001b[38;5;241m=\u001b[39mformatter,\n\u001b[1;32m    209\u001b[0m                           neato_no_op\u001b[38;5;241m=\u001b[39mneato_no_op)\n\u001b[1;32m    210\u001b[0m kwargs \u001b[38;5;241m=\u001b[39m {\u001b[38;5;124m'\u001b[39m\u001b[38;5;124minput_lines\u001b[39m\u001b[38;5;124m'\u001b[39m: input_lines, \u001b[38;5;124m'\u001b[39m\u001b[38;5;124mencoding\u001b[39m\u001b[38;5;124m'\u001b[39m: encoding}\n\u001b[0;32m--> 212\u001b[0m proc \u001b[38;5;241m=\u001b[39m execute\u001b[38;5;241m.\u001b[39mrun_check(cmd, capture_output\u001b[38;5;241m=\u001b[39m\u001b[38;5;28;01mTrue\u001b[39;00m, quiet\u001b[38;5;241m=\u001b[39mquiet, \u001b[38;5;241m*\u001b[39m\u001b[38;5;241m*\u001b[39mkwargs)\n\u001b[1;32m    213\u001b[0m \u001b[38;5;28;01mreturn\u001b[39;00m proc\u001b[38;5;241m.\u001b[39mstdout\n",
      "File \u001b[0;32m~/anaconda3/lib/python3.11/site-packages/graphviz/backend/execute.py:81\u001b[0m, in \u001b[0;36mrun_check\u001b[0;34m(cmd, input_lines, encoding, quiet, **kwargs)\u001b[0m\n\u001b[1;32m     79\u001b[0m \u001b[38;5;28;01mexcept\u001b[39;00m \u001b[38;5;167;01mOSError\u001b[39;00m \u001b[38;5;28;01mas\u001b[39;00m e:\n\u001b[1;32m     80\u001b[0m     \u001b[38;5;28;01mif\u001b[39;00m e\u001b[38;5;241m.\u001b[39merrno \u001b[38;5;241m==\u001b[39m errno\u001b[38;5;241m.\u001b[39mENOENT:\n\u001b[0;32m---> 81\u001b[0m         \u001b[38;5;28;01mraise\u001b[39;00m ExecutableNotFound(cmd) \u001b[38;5;28;01mfrom\u001b[39;00m \u001b[38;5;21;01me\u001b[39;00m\n\u001b[1;32m     82\u001b[0m     \u001b[38;5;28;01mraise\u001b[39;00m\n\u001b[1;32m     84\u001b[0m \u001b[38;5;28;01mif\u001b[39;00m \u001b[38;5;129;01mnot\u001b[39;00m quiet \u001b[38;5;129;01mand\u001b[39;00m proc\u001b[38;5;241m.\u001b[39mstderr:\n",
      "\u001b[0;31mExecutableNotFound\u001b[0m: failed to execute PosixPath('dot'), make sure the Graphviz executables are on your systems' PATH"
     ]
    },
    {
     "data": {
      "text/plain": [
       "<graphviz.graphs.Digraph at 0x164eb6d90>"
      ]
     },
     "execution_count": 7,
     "metadata": {},
     "output_type": "execute_result"
    }
   ],
   "source": [
    "# You can compare the above to this cell to confirm the correctness of your setup \n",
    "pymc.model_to_graphviz(OldFaithful)"
   ]
  },
  {
   "cell_type": "code",
   "execution_count": 8,
   "id": "8c2b6a58",
   "metadata": {},
   "outputs": [
    {
     "name": "stderr",
     "output_type": "stream",
     "text": [
      "Multiprocess sampling (2 chains in 2 jobs)\n",
      "CompoundStep\n",
      ">NUTS: [p, theta_w0, theta_w1, theta_y0, theta_y1, tau_w, tau_y]\n",
      ">BinaryGibbsMetropolis: [u]\n"
     ]
    },
    {
     "data": {
      "application/vnd.jupyter.widget-view+json": {
       "model_id": "730bd0dc203042d3b468eb2bf5849ede",
       "version_major": 2,
       "version_minor": 0
      },
      "text/plain": [
       "Output()"
      ]
     },
     "metadata": {},
     "output_type": "display_data"
    },
    {
     "data": {
      "text/html": [
       "<pre style=\"white-space:pre;overflow-x:auto;line-height:normal;font-family:Menlo,'DejaVu Sans Mono',consolas,'Courier New',monospace\"></pre>\n"
      ],
      "text/plain": []
     },
     "metadata": {},
     "output_type": "display_data"
    },
    {
     "name": "stderr",
     "output_type": "stream",
     "text": [
      "Sampling 2 chains for 1_000 tune and 2_000 draw iterations (2_000 + 4_000 draws total) took 24 seconds.\n",
      "/Users/simonhe/anaconda3/lib/python3.11/site-packages/arviz/stats/diagnostics.py:596: RuntimeWarning: invalid value encountered in scalar divide\n",
      "  (between_chain_variance / within_chain_variance + num_samples - 1) / (num_samples)\n",
      "We recommend running at least 4 chains for robust computation of convergence diagnostics\n"
     ]
    }
   ],
   "source": [
    "with OldFaithful:\n",
    "    v1_fit = pymc.sample(2000, tune=1000, chains=2, target_accept=0.95, return_inferencedata=True)\n",
    "\n",
    "# The error below is a result of no variation in some of the u_i\n",
    "# which indicates that we do not believe there is any uncertainty in these u_i\n",
    "\n",
    "# RuntimeWarning: invalid value encountered in scalar divide\n",
    "# (between_chain_variance / within_chain_variance + num_samples - 1) / (num_samples) \n"
   ]
  },
  {
   "cell_type": "code",
   "execution_count": 9,
   "id": "cbcf070b",
   "metadata": {},
   "outputs": [
    {
     "name": "stdout",
     "output_type": "stream",
     "text": [
      "(2, 2000, 272)\n"
     ]
    },
    {
     "data": {
      "text/plain": [
       "array([[0.        , 0.        , 0.00049975, 0.        , 0.        ,\n",
       "        0.        , 0.        , 0.        , 0.        , 0.        ,\n",
       "        0.        , 0.        , 0.        , 0.        , 0.        ,\n",
       "        0.        , 0.        , 0.        , 0.        , 0.        ,\n",
       "        0.        , 0.        , 0.        , 0.24978975, 0.        ,\n",
       "        0.        , 0.        , 0.        , 0.        , 0.        ,\n",
       "        0.        , 0.        , 0.06033975, 0.        , 0.        ,\n",
       "        0.        , 0.        , 0.        , 0.        , 0.        ,\n",
       "        0.        , 0.        , 0.        , 0.        , 0.        ,\n",
       "        0.        , 0.000999  , 0.        , 0.        , 0.        ,\n",
       "        0.        , 0.        , 0.        , 0.        , 0.        ,\n",
       "        0.        , 0.        , 0.        , 0.        , 0.        ,\n",
       "        0.        , 0.        , 0.        , 0.        , 0.        ,\n",
       "        0.        , 0.        , 0.        , 0.        , 0.        ,\n",
       "        0.        , 0.        , 0.        , 0.        , 0.        ,\n",
       "        0.        , 0.        , 0.        , 0.        , 0.        ,\n",
       "        0.        , 0.        , 0.        , 0.        , 0.        ,\n",
       "        0.        , 0.        , 0.        , 0.        , 0.        ,\n",
       "        0.        , 0.        , 0.        , 0.        , 0.        ,\n",
       "        0.        , 0.        , 0.        , 0.        , 0.        ,\n",
       "        0.        , 0.        , 0.        , 0.        , 0.        ,\n",
       "        0.        , 0.        , 0.        , 0.        , 0.        ,\n",
       "        0.        , 0.        , 0.        , 0.        , 0.        ,\n",
       "        0.        , 0.        , 0.        , 0.        , 0.        ,\n",
       "        0.        , 0.        , 0.        , 0.        , 0.        ,\n",
       "        0.        , 0.        , 0.        , 0.        , 0.        ,\n",
       "        0.        , 0.        , 0.        , 0.        , 0.        ,\n",
       "        0.        , 0.        , 0.        , 0.        , 0.        ,\n",
       "        0.        , 0.        , 0.        , 0.        , 0.        ,\n",
       "        0.        , 0.        , 0.        , 0.        , 0.        ,\n",
       "        0.        , 0.        , 0.        , 0.        , 0.        ,\n",
       "        0.        , 0.        , 0.        , 0.        , 0.        ,\n",
       "        0.        , 0.        , 0.        , 0.        , 0.006951  ,\n",
       "        0.        , 0.        , 0.        , 0.        , 0.        ,\n",
       "        0.        , 0.        , 0.        , 0.02768775, 0.        ,\n",
       "        0.        , 0.        , 0.        , 0.        , 0.        ,\n",
       "        0.        , 0.        , 0.        , 0.        , 0.        ,\n",
       "        0.        , 0.        , 0.        , 0.        , 0.        ,\n",
       "        0.        , 0.        , 0.        , 0.        , 0.        ,\n",
       "        0.        , 0.        , 0.        , 0.        , 0.        ,\n",
       "        0.        , 0.        , 0.        , 0.        , 0.        ,\n",
       "        0.        , 0.        , 0.        , 0.        , 0.        ,\n",
       "        0.        , 0.        , 0.        , 0.        , 0.100231  ,\n",
       "        0.        , 0.        , 0.        , 0.        , 0.        ,\n",
       "        0.        , 0.        , 0.        , 0.        , 0.        ,\n",
       "        0.        , 0.        , 0.        , 0.        , 0.        ,\n",
       "        0.        , 0.        , 0.        , 0.        , 0.        ,\n",
       "        0.        , 0.        , 0.        , 0.        , 0.        ,\n",
       "        0.        , 0.        , 0.        , 0.        , 0.        ,\n",
       "        0.        , 0.        , 0.        , 0.        , 0.        ,\n",
       "        0.        , 0.        , 0.        , 0.        , 0.        ,\n",
       "        0.        , 0.        , 0.        , 0.        , 0.        ,\n",
       "        0.        , 0.        , 0.        , 0.        , 0.        ,\n",
       "        0.        , 0.        , 0.        , 0.        , 0.        ,\n",
       "        0.        , 0.        ],\n",
       "       [0.        , 0.        , 0.00049975, 0.        , 0.        ,\n",
       "        0.        , 0.        , 0.        , 0.        , 0.        ,\n",
       "        0.        , 0.        , 0.        , 0.        , 0.        ,\n",
       "        0.        , 0.        , 0.        , 0.        , 0.        ,\n",
       "        0.        , 0.        , 0.        , 0.24992775, 0.        ,\n",
       "        0.        , 0.        , 0.        , 0.        , 0.        ,\n",
       "        0.        , 0.        , 0.05330775, 0.        , 0.        ,\n",
       "        0.        , 0.        , 0.        , 0.        , 0.        ,\n",
       "        0.        , 0.        , 0.        , 0.        , 0.        ,\n",
       "        0.        , 0.000999  , 0.        , 0.        , 0.        ,\n",
       "        0.        , 0.        , 0.        , 0.        , 0.        ,\n",
       "        0.        , 0.        , 0.        , 0.        , 0.        ,\n",
       "        0.        , 0.        , 0.        , 0.        , 0.        ,\n",
       "        0.        , 0.        , 0.        , 0.        , 0.        ,\n",
       "        0.        , 0.        , 0.        , 0.        , 0.        ,\n",
       "        0.        , 0.        , 0.        , 0.        , 0.        ,\n",
       "        0.        , 0.        , 0.        , 0.        , 0.        ,\n",
       "        0.        , 0.        , 0.        , 0.        , 0.        ,\n",
       "        0.        , 0.        , 0.        , 0.        , 0.        ,\n",
       "        0.        , 0.        , 0.        , 0.        , 0.        ,\n",
       "        0.        , 0.        , 0.        , 0.        , 0.        ,\n",
       "        0.        , 0.        , 0.        , 0.        , 0.        ,\n",
       "        0.        , 0.        , 0.        , 0.        , 0.        ,\n",
       "        0.        , 0.        , 0.        , 0.        , 0.        ,\n",
       "        0.        , 0.        , 0.        , 0.        , 0.        ,\n",
       "        0.        , 0.        , 0.        , 0.        , 0.        ,\n",
       "        0.        , 0.        , 0.        , 0.        , 0.        ,\n",
       "        0.        , 0.        , 0.        , 0.        , 0.        ,\n",
       "        0.        , 0.        , 0.        , 0.        , 0.        ,\n",
       "        0.        , 0.        , 0.        , 0.        , 0.        ,\n",
       "        0.        , 0.        , 0.        , 0.        , 0.        ,\n",
       "        0.        , 0.        , 0.        , 0.        , 0.        ,\n",
       "        0.        , 0.        , 0.        , 0.        , 0.00645775,\n",
       "        0.        , 0.        , 0.        , 0.        , 0.        ,\n",
       "        0.        , 0.        , 0.        , 0.0291    , 0.        ,\n",
       "        0.        , 0.        , 0.        , 0.        , 0.        ,\n",
       "        0.        , 0.        , 0.        , 0.        , 0.        ,\n",
       "        0.        , 0.        , 0.        , 0.        , 0.        ,\n",
       "        0.        , 0.        , 0.        , 0.        , 0.        ,\n",
       "        0.        , 0.        , 0.        , 0.        , 0.        ,\n",
       "        0.        , 0.        , 0.        , 0.        , 0.        ,\n",
       "        0.        , 0.        , 0.        , 0.        , 0.        ,\n",
       "        0.        , 0.        , 0.        , 0.        , 0.104076  ,\n",
       "        0.        , 0.        , 0.        , 0.        , 0.        ,\n",
       "        0.        , 0.        , 0.        , 0.        , 0.        ,\n",
       "        0.        , 0.        , 0.        , 0.        , 0.        ,\n",
       "        0.        , 0.        , 0.        , 0.        , 0.        ,\n",
       "        0.        , 0.        , 0.        , 0.        , 0.        ,\n",
       "        0.        , 0.        , 0.        , 0.00149775, 0.        ,\n",
       "        0.        , 0.        , 0.        , 0.        , 0.        ,\n",
       "        0.        , 0.        , 0.        , 0.        , 0.        ,\n",
       "        0.        , 0.        , 0.        , 0.        , 0.        ,\n",
       "        0.        , 0.        , 0.        , 0.        , 0.        ,\n",
       "        0.        , 0.        , 0.        , 0.        , 0.        ,\n",
       "        0.        , 0.        ]])"
      ]
     },
     "metadata": {},
     "output_type": "display_data"
    },
    {
     "data": {
      "text/plain": [
       "array([[1.    , 0.    , 0.9995, 0.    , 1.    , 0.    , 1.    , 1.    ,\n",
       "        0.    , 1.    , 0.    , 1.    , 1.    , 0.    , 1.    , 0.    ,\n",
       "        0.    , 1.    , 0.    , 1.    , 0.    , 0.    , 1.    , 0.5145,\n",
       "        1.    , 1.    , 0.    , 1.    , 1.    , 1.    , 1.    , 1.    ,\n",
       "        0.9355, 1.    , 1.    , 0.    , 0.    , 1.    , 0.    , 1.    ,\n",
       "        1.    , 0.    , 1.    , 0.    , 1.    , 1.    , 0.999 , 0.    ,\n",
       "        1.    , 0.    , 1.    , 1.    , 0.    , 1.    , 0.    , 1.    ,\n",
       "        1.    , 0.    , 1.    , 1.    , 0.    , 1.    , 0.    , 1.    ,\n",
       "        0.    , 1.    , 1.    , 1.    , 0.    , 1.    , 1.    , 0.    ,\n",
       "        1.    , 1.    , 0.    , 1.    , 0.    , 1.    , 1.    , 1.    ,\n",
       "        1.    , 1.    , 1.    , 0.    , 1.    , 1.    , 1.    , 1.    ,\n",
       "        0.    , 1.    , 0.    , 1.    , 0.    , 1.    , 0.    , 1.    ,\n",
       "        1.    , 1.    , 0.    , 1.    , 0.    , 1.    , 0.    , 1.    ,\n",
       "        1.    , 0.    , 1.    , 0.    , 1.    , 1.    , 1.    , 0.    ,\n",
       "        1.    , 1.    , 0.    , 1.    , 0.    , 1.    , 0.    , 1.    ,\n",
       "        0.    , 1.    , 1.    , 0.    , 1.    , 1.    , 0.    , 1.    ,\n",
       "        0.    , 1.    , 0.    , 1.    , 0.    , 1.    , 0.    , 1.    ,\n",
       "        0.    , 1.    , 0.    , 1.    , 1.    , 0.    , 1.    , 1.    ,\n",
       "        1.    , 0.    , 1.    , 0.    , 1.    , 0.    , 1.    , 1.    ,\n",
       "        0.    , 1.    , 1.    , 1.    , 1.    , 1.    , 0.    , 1.    ,\n",
       "        0.    , 1.    , 0.    , 1.    , 0.993 , 1.    , 0.    , 1.    ,\n",
       "        0.    , 1.    , 0.    , 0.    , 1.    , 0.9715, 1.    , 1.    ,\n",
       "        1.    , 0.    , 1.    , 1.    , 0.    , 1.    , 1.    , 1.    ,\n",
       "        0.    , 1.    , 1.    , 0.    , 1.    , 0.    , 1.    , 0.    ,\n",
       "        1.    , 1.    , 1.    , 1.    , 1.    , 1.    , 0.    , 1.    ,\n",
       "        0.    , 1.    , 1.    , 0.    , 1.    , 0.    , 1.    , 1.    ,\n",
       "        0.    , 1.    , 0.    , 1.    , 0.    , 1.    , 0.887 , 1.    ,\n",
       "        0.    , 1.    , 0.    , 1.    , 0.    , 1.    , 0.    , 1.    ,\n",
       "        1.    , 1.    , 1.    , 1.    , 1.    , 1.    , 1.    , 0.    ,\n",
       "        1.    , 0.    , 1.    , 0.    , 0.    , 1.    , 1.    , 0.    ,\n",
       "        1.    , 0.    , 1.    , 0.    , 1.    , 1.    , 0.    , 1.    ,\n",
       "        0.    , 1.    , 0.    , 1.    , 1.    , 1.    , 1.    , 1.    ,\n",
       "        1.    , 1.    , 0.    , 1.    , 1.    , 1.    , 0.    , 1.    ,\n",
       "        0.    , 0.    , 1.    , 1.    , 0.    , 1.    , 0.    , 1.    ],\n",
       "       [1.    , 0.    , 0.9995, 0.    , 1.    , 0.    , 1.    , 1.    ,\n",
       "        0.    , 1.    , 0.    , 1.    , 1.    , 0.    , 1.    , 0.    ,\n",
       "        0.    , 1.    , 0.    , 1.    , 0.    , 0.    , 1.    , 0.5085,\n",
       "        1.    , 1.    , 0.    , 1.    , 1.    , 1.    , 1.    , 1.    ,\n",
       "        0.9435, 1.    , 1.    , 0.    , 0.    , 1.    , 0.    , 1.    ,\n",
       "        1.    , 0.    , 1.    , 0.    , 1.    , 1.    , 0.999 , 0.    ,\n",
       "        1.    , 0.    , 1.    , 1.    , 0.    , 1.    , 0.    , 1.    ,\n",
       "        1.    , 0.    , 1.    , 1.    , 0.    , 1.    , 0.    , 1.    ,\n",
       "        0.    , 1.    , 1.    , 1.    , 0.    , 1.    , 1.    , 0.    ,\n",
       "        1.    , 1.    , 0.    , 1.    , 0.    , 1.    , 1.    , 1.    ,\n",
       "        1.    , 1.    , 1.    , 0.    , 1.    , 1.    , 1.    , 1.    ,\n",
       "        0.    , 1.    , 0.    , 1.    , 0.    , 1.    , 0.    , 1.    ,\n",
       "        1.    , 1.    , 0.    , 1.    , 0.    , 1.    , 0.    , 1.    ,\n",
       "        1.    , 0.    , 1.    , 0.    , 1.    , 1.    , 1.    , 0.    ,\n",
       "        1.    , 1.    , 0.    , 1.    , 0.    , 1.    , 0.    , 1.    ,\n",
       "        0.    , 1.    , 1.    , 0.    , 1.    , 1.    , 0.    , 1.    ,\n",
       "        0.    , 1.    , 0.    , 1.    , 0.    , 1.    , 0.    , 1.    ,\n",
       "        0.    , 1.    , 0.    , 1.    , 1.    , 0.    , 1.    , 1.    ,\n",
       "        1.    , 0.    , 1.    , 0.    , 1.    , 0.    , 1.    , 1.    ,\n",
       "        0.    , 1.    , 1.    , 1.    , 1.    , 1.    , 0.    , 1.    ,\n",
       "        0.    , 1.    , 0.    , 1.    , 0.9935, 1.    , 0.    , 1.    ,\n",
       "        0.    , 1.    , 0.    , 0.    , 1.    , 0.97  , 1.    , 1.    ,\n",
       "        1.    , 0.    , 1.    , 1.    , 0.    , 1.    , 1.    , 1.    ,\n",
       "        0.    , 1.    , 1.    , 0.    , 1.    , 0.    , 1.    , 0.    ,\n",
       "        1.    , 1.    , 1.    , 1.    , 1.    , 1.    , 0.    , 1.    ,\n",
       "        0.    , 1.    , 1.    , 0.    , 1.    , 0.    , 1.    , 1.    ,\n",
       "        0.    , 1.    , 0.    , 1.    , 0.    , 1.    , 0.882 , 1.    ,\n",
       "        0.    , 1.    , 0.    , 1.    , 0.    , 1.    , 0.    , 1.    ,\n",
       "        1.    , 1.    , 1.    , 1.    , 1.    , 1.    , 1.    , 0.    ,\n",
       "        1.    , 0.    , 1.    , 0.    , 0.    , 1.    , 1.    , 0.    ,\n",
       "        1.    , 0.    , 1.    , 0.0015, 1.    , 1.    , 0.    , 1.    ,\n",
       "        0.    , 1.    , 0.    , 1.    , 1.    , 1.    , 1.    , 1.    ,\n",
       "        1.    , 1.    , 0.    , 1.    , 1.    , 1.    , 0.    , 1.    ,\n",
       "        0.    , 0.    , 1.    , 1.    , 0.    , 1.    , 0.    , 1.    ]])"
      ]
     },
     "metadata": {},
     "output_type": "display_data"
    },
    {
     "data": {
      "image/png": "[encoded data removed]",
      "text/plain": [
       "<Figure size 640x480 with 1 Axes>"
      ]
     },
     "metadata": {},
     "output_type": "display_data"
    }
   ],
   "source": [
    "print(v1_fit.posterior.u.shape)\n",
    "display(v1_fit.posterior.u.values.var(axis=1))\n",
    "display(v1_fit.posterior.u.values.mean(axis=1))\n",
    "plt.plot(sorted(v1_fit.posterior.u.values.mean(axis=1).mean(axis=0)))\n",
    "plt.title(\"sorted posterior averaged u_i\");"
   ]
  },
  {
   "cell_type": "code",
   "execution_count": 10,
   "id": "dc532dd5",
   "metadata": {},
   "outputs": [
    {
     "data": {
      "text/plain": [
       "dict_keys(['p', 'u', 'theta_w0', 'theta_w1', 'theta_y0', 'theta_y1', 'tau_w', 'tau_y', 'obs_w', 'obs_y'])"
      ]
     },
     "execution_count": 10,
     "metadata": {},
     "output_type": "execute_result"
    }
   ],
   "source": [
    "dir(OldFaithful)\n",
    "OldFaithful.named_vars.keys()"
   ]
  },
  {
   "cell_type": "code",
   "execution_count": 11,
   "id": "152fc42d",
   "metadata": {},
   "outputs": [
    {
     "data": {
      "text/plain": [
       "dict_keys(['p', 'u', 'theta_w0', 'theta_w1', 'theta_y0', 'theta_y1', 'tau_w', 'tau_y', 'obs_w', 'obs_y'])"
      ]
     },
     "execution_count": 11,
     "metadata": {},
     "output_type": "execute_result"
    }
   ],
   "source": [
    "# You can compare the above to this cell to confirm the correctness of your setup \n",
    "dir(OldFaithful)\n",
    "OldFaithful.named_vars.keys()"
   ]
  },
  {
   "cell_type": "code",
   "execution_count": 12,
   "id": "7dfa5ae6",
   "metadata": {},
   "outputs": [
    {
     "data": {
      "text/html": [
       "<div>\n",
       "<style scoped>\n",
       "    .dataframe tbody tr th:only-of-type {\n",
       "        vertical-align: middle;\n",
       "    }\n",
       "\n",
       "    .dataframe tbody tr th {\n",
       "        vertical-align: top;\n",
       "    }\n",
       "\n",
       "    .dataframe thead th {\n",
       "        text-align: right;\n",
       "    }\n",
       "</style>\n",
       "<table border=\"1\" class=\"dataframe\">\n",
       "  <thead>\n",
       "    <tr style=\"text-align: right;\">\n",
       "      <th></th>\n",
       "      <th>mean</th>\n",
       "      <th>sd</th>\n",
       "      <th>hdi_3%</th>\n",
       "      <th>hdi_97%</th>\n",
       "      <th>mcse_mean</th>\n",
       "      <th>mcse_sd</th>\n",
       "      <th>ess_bulk</th>\n",
       "      <th>ess_tail</th>\n",
       "      <th>r_hat</th>\n",
       "    </tr>\n",
       "  </thead>\n",
       "  <tbody>\n",
       "    <tr>\n",
       "      <th>p</th>\n",
       "      <td>0.640</td>\n",
       "      <td>0.030</td>\n",
       "      <td>0.585</td>\n",
       "      <td>0.696</td>\n",
       "      <td>0.000</td>\n",
       "      <td>0.000</td>\n",
       "      <td>5792.0</td>\n",
       "      <td>2614.0</td>\n",
       "      <td>1.0</td>\n",
       "    </tr>\n",
       "    <tr>\n",
       "      <th>theta_w0</th>\n",
       "      <td>54.595</td>\n",
       "      <td>0.621</td>\n",
       "      <td>53.468</td>\n",
       "      <td>55.781</td>\n",
       "      <td>0.007</td>\n",
       "      <td>0.005</td>\n",
       "      <td>7094.0</td>\n",
       "      <td>3339.0</td>\n",
       "      <td>1.0</td>\n",
       "    </tr>\n",
       "    <tr>\n",
       "      <th>theta_w1</th>\n",
       "      <td>80.082</td>\n",
       "      <td>0.447</td>\n",
       "      <td>79.275</td>\n",
       "      <td>80.983</td>\n",
       "      <td>0.006</td>\n",
       "      <td>0.004</td>\n",
       "      <td>5967.0</td>\n",
       "      <td>2826.0</td>\n",
       "      <td>1.0</td>\n",
       "    </tr>\n",
       "    <tr>\n",
       "      <th>theta_y0[0]</th>\n",
       "      <td>2.046</td>\n",
       "      <td>0.038</td>\n",
       "      <td>1.974</td>\n",
       "      <td>2.117</td>\n",
       "      <td>0.001</td>\n",
       "      <td>0.000</td>\n",
       "      <td>5414.0</td>\n",
       "      <td>3126.0</td>\n",
       "      <td>1.0</td>\n",
       "    </tr>\n",
       "    <tr>\n",
       "      <th>theta_y1[0]</th>\n",
       "      <td>4.296</td>\n",
       "      <td>0.029</td>\n",
       "      <td>4.242</td>\n",
       "      <td>4.350</td>\n",
       "      <td>0.000</td>\n",
       "      <td>0.000</td>\n",
       "      <td>5958.0</td>\n",
       "      <td>2773.0</td>\n",
       "      <td>1.0</td>\n",
       "    </tr>\n",
       "    <tr>\n",
       "      <th>tau_w[0]</th>\n",
       "      <td>0.028</td>\n",
       "      <td>0.002</td>\n",
       "      <td>0.023</td>\n",
       "      <td>0.032</td>\n",
       "      <td>0.000</td>\n",
       "      <td>0.000</td>\n",
       "      <td>5132.0</td>\n",
       "      <td>3205.0</td>\n",
       "      <td>1.0</td>\n",
       "    </tr>\n",
       "    <tr>\n",
       "      <th>tau_y[0]</th>\n",
       "      <td>7.282</td>\n",
       "      <td>0.644</td>\n",
       "      <td>6.172</td>\n",
       "      <td>8.563</td>\n",
       "      <td>0.008</td>\n",
       "      <td>0.006</td>\n",
       "      <td>6698.0</td>\n",
       "      <td>3100.0</td>\n",
       "      <td>1.0</td>\n",
       "    </tr>\n",
       "  </tbody>\n",
       "</table>\n",
       "</div>"
      ],
      "text/plain": [
       "               mean     sd  hdi_3%  hdi_97%  mcse_mean  mcse_sd  ess_bulk  \\\n",
       "p             0.640  0.030   0.585    0.696      0.000    0.000    5792.0   \n",
       "theta_w0     54.595  0.621  53.468   55.781      0.007    0.005    7094.0   \n",
       "theta_w1     80.082  0.447  79.275   80.983      0.006    0.004    5967.0   \n",
       "theta_y0[0]   2.046  0.038   1.974    2.117      0.001    0.000    5414.0   \n",
       "theta_y1[0]   4.296  0.029   4.242    4.350      0.000    0.000    5958.0   \n",
       "tau_w[0]      0.028  0.002   0.023    0.032      0.000    0.000    5132.0   \n",
       "tau_y[0]      7.282  0.644   6.172    8.563      0.008    0.006    6698.0   \n",
       "\n",
       "             ess_tail  r_hat  \n",
       "p              2614.0    1.0  \n",
       "theta_w0       3339.0    1.0  \n",
       "theta_w1       2826.0    1.0  \n",
       "theta_y0[0]    3126.0    1.0  \n",
       "theta_y1[0]    2773.0    1.0  \n",
       "tau_w[0]       3205.0    1.0  \n",
       "tau_y[0]       3100.0    1.0  "
      ]
     },
     "execution_count": 12,
     "metadata": {},
     "output_type": "execute_result"
    }
   ],
   "source": [
    "az.summary(v1_fit, var_names=['p', \n",
    "                              'theta_w0', 'theta_w1', \n",
    "                              'theta_y0', 'theta_y1', \n",
    "                              'tau_w', 'tau_y'])"
   ]
  },
  {
   "cell_type": "code",
   "execution_count": 13,
   "id": "d2ee1993",
   "metadata": {},
   "outputs": [
    {
     "ename": "NameError",
     "evalue": "name 'fits' is not defined",
     "output_type": "error",
     "traceback": [
      "\u001b[0;31m---------------------------------------------------------------------------\u001b[0m",
      "\u001b[0;31mNameError\u001b[0m                                 Traceback (most recent call last)",
      "Cell \u001b[0;32mIn[13], line 1\u001b[0m\n\u001b[0;32m----> 1\u001b[0m az\u001b[38;5;241m.\u001b[39mplot_trace(fits, var_names\u001b[38;5;241m=\u001b[39m[\u001b[38;5;124m'\u001b[39m\u001b[38;5;124mp\u001b[39m\u001b[38;5;124m'\u001b[39m, \n\u001b[1;32m      2\u001b[0m                                \u001b[38;5;124m'\u001b[39m\u001b[38;5;124mtheta_w0\u001b[39m\u001b[38;5;124m'\u001b[39m, \u001b[38;5;124m'\u001b[39m\u001b[38;5;124mtheta_w1\u001b[39m\u001b[38;5;124m'\u001b[39m, \n\u001b[1;32m      3\u001b[0m                                \u001b[38;5;124m'\u001b[39m\u001b[38;5;124mtheta_y0\u001b[39m\u001b[38;5;124m'\u001b[39m, \u001b[38;5;124m'\u001b[39m\u001b[38;5;124mtheta_y1\u001b[39m\u001b[38;5;124m'\u001b[39m, \n\u001b[1;32m      4\u001b[0m                                \u001b[38;5;124m'\u001b[39m\u001b[38;5;124mtau_w\u001b[39m\u001b[38;5;124m'\u001b[39m, \u001b[38;5;124m'\u001b[39m\u001b[38;5;124mtau_y\u001b[39m\u001b[38;5;124m'\u001b[39m])\n\u001b[1;32m      5\u001b[0m plt\u001b[38;5;241m.\u001b[39mtight_layout()\n",
      "\u001b[0;31mNameError\u001b[0m: name 'fits' is not defined"
     ]
    }
   ],
   "source": [
    "az.plot_trace(fits, var_names=['p', \n",
    "                               'theta_w0', 'theta_w1', \n",
    "                               'theta_y0', 'theta_y1', \n",
    "                               'tau_w', 'tau_y'])\n",
    "plt.tight_layout()"
   ]
  },
  {
   "cell_type": "code",
   "execution_count": null,
   "id": "8994a84a",
   "metadata": {},
   "outputs": [],
   "source": [
    "# You can compare the above to this cell to confirm the correctness of your setup \n",
    "# Does not look at u since there are too many for the output to be meaningful\n",
    "az.plot_trace(v1_fit, var_names=['p', \n",
    "                                 'theta_w0', 'theta_w1', \n",
    "                                 'theta_y0', 'theta_y1', \n",
    "                                 'tau_w', 'tau_y'])\n",
    "plt.tight_layout()    "
   ]
  },
  {
   "cell_type": "markdown",
   "id": "adb8ffd3",
   "metadata": {},
   "source": [
    "## Part 3 (20%): Complete the specification above using PyMC again\n",
    "\n",
    "- Use one beta distribution\n",
    "- Use one Bernoulli distribution with `shape=272`\n",
    "- Now use two (not four) normal distributions for the location $\\theta$ parameters\n",
    "    - based on using `mu=[55,85]` and `mu=[2,4.5]` (which will make each have `shape=2` by default), and `tau=1/25` and `tau=1/0.5**2`, respectively \n",
    "- Use one gamma distribution for the precision $\\tau$ parameters\n",
    "    - based on using `beta=[(1/10**2)/2, 1/2]` and `alpha=1/2` (which will make the distribution have `shape=2` by default)\n",
    "- Use two normal distributions for the two observation columns (as suggested below)\n",
    "    - based on using `theta_w[u]` and `tau=tau[0]` and `theta_w[u]` and `tau=tau[0]`"
   ]
  },
  {
   "cell_type": "code",
   "execution_count": 14,
   "id": "7ee3dced",
   "metadata": {},
   "outputs": [
    {
     "name": "stderr",
     "output_type": "stream",
     "text": [
      "Multiprocess sampling (4 chains in 4 jobs)\n",
      "CompoundStep\n",
      ">NUTS: [p, theta_w, theta_y, tau_w, tau_y]\n",
      ">BinaryGibbsMetropolis: [u]\n"
     ]
    },
    {
     "data": {
      "application/vnd.jupyter.widget-view+json": {
       "model_id": "63f3f618a18f49ee9464a8420b16fcc6",
       "version_major": 2,
       "version_minor": 0
      },
      "text/plain": [
       "Output()"
      ]
     },
     "metadata": {},
     "output_type": "display_data"
    },
    {
     "data": {
      "text/html": [
       "<pre style=\"white-space:pre;overflow-x:auto;line-height:normal;font-family:Menlo,'DejaVu Sans Mono',consolas,'Courier New',monospace\"></pre>\n"
      ],
      "text/plain": []
     },
     "metadata": {},
     "output_type": "display_data"
    },
    {
     "name": "stderr",
     "output_type": "stream",
     "text": [
      "Sampling 4 chains for 1_000 tune and 2_000 draw iterations (4_000 + 8_000 draws total) took 24 seconds.\n",
      "/Users/simonhe/anaconda3/lib/python3.11/site-packages/arviz/stats/diagnostics.py:596: RuntimeWarning: invalid value encountered in scalar divide\n",
      "  (between_chain_variance / within_chain_variance + num_samples - 1) / (num_samples)\n"
     ]
    }
   ],
   "source": [
    "# For `u` a vector of 0's and 1's (with `shape=272` in this case)\n",
    "# if `theta_w` has `shape=2` then `theta_w[u]` creates a vector of length `u`\n",
    "# in the same manner as `(np.array([10,20])[stats.bernoulli(0.5).rvs(10)])`\n",
    "\n",
    "with pymc.Model() as OldFaithful2:\n",
    "\n",
    "    # One beta distribution\n",
    "    p = pymc.Beta(\"p\", alpha=1, beta=1)\n",
    "    \n",
    "    # One Bernoulli distribution with shape=272\n",
    "    u = pymc.Bernoulli(\"u\", p=p, shape=272)\n",
    "    \n",
    "    # Two normal distributions for location θ parameters\n",
    "    theta_w = pymc.Normal(\"theta_w\", mu=[55, 85], tau=[1/25, 1/(0.5*2)], shape=2)\n",
    "    theta_y = pymc.Normal(\"theta_y\", mu=[2.0, 4.5], tau=[1/25, 1/(0.5*2)], shape=2)\n",
    "    \n",
    "    # One gamma distribution for precision τ parameters\n",
    "    tau_w = pymc.Gamma(\"tau_w\", alpha=0.5, beta=[(1/10**2)/2, 1/2], shape=2)\n",
    "    tau_y = pymc.Gamma(\"tau_y\", alpha=0.5, beta=[(1/10**2)/2, 1/2], shape=2)\n",
    "    \n",
    "    # Two normal distributions for observations\n",
    "    obs_w = pymc.Normal(\"obs_w\", mu=theta_w[u], tau=tau_w[0], observed=old_faithful[\"waiting\"])\n",
    "    obs_y = pymc.Normal(\"obs_y\", mu=theta_y[u], tau=tau_y[0], observed=old_faithful[\"eruptions\"])\n",
    "\n",
    "\n",
    "\n",
    "\n",
    "    pass\n",
    "\n",
    "# Use `mu=[55,85]` along with `tau=1/25` to make `theta_w` a \n",
    "# \"vector\" random variable of `shape=2` and define `tau` in\n",
    "# a similar way and use `tau=tau[0]` in the \"observed\" context...\n",
    "# etc."
   ]
  },
  {
   "cell_type": "code",
   "execution_count": 15,
   "id": "69aada50",
   "metadata": {},
   "outputs": [
    {
     "ename": "ExecutableNotFound",
     "evalue": "failed to execute PosixPath('dot'), make sure the Graphviz executables are on your systems' PATH",
     "output_type": "error",
     "traceback": [
      "\u001b[0;31m---------------------------------------------------------------------------\u001b[0m",
      "\u001b[0;31mFileNotFoundError\u001b[0m                         Traceback (most recent call last)",
      "File \u001b[0;32m~/anaconda3/lib/python3.11/site-packages/graphviz/backend/execute.py:76\u001b[0m, in \u001b[0;36mrun_check\u001b[0;34m(cmd, input_lines, encoding, quiet, **kwargs)\u001b[0m\n\u001b[1;32m     75\u001b[0m         kwargs[\u001b[38;5;124m'\u001b[39m\u001b[38;5;124mstdout\u001b[39m\u001b[38;5;124m'\u001b[39m] \u001b[38;5;241m=\u001b[39m kwargs[\u001b[38;5;124m'\u001b[39m\u001b[38;5;124mstderr\u001b[39m\u001b[38;5;124m'\u001b[39m] \u001b[38;5;241m=\u001b[39m subprocess\u001b[38;5;241m.\u001b[39mPIPE\n\u001b[0;32m---> 76\u001b[0m     proc \u001b[38;5;241m=\u001b[39m _run_input_lines(cmd, input_lines, kwargs\u001b[38;5;241m=\u001b[39mkwargs)\n\u001b[1;32m     77\u001b[0m \u001b[38;5;28;01melse\u001b[39;00m:\n",
      "File \u001b[0;32m~/anaconda3/lib/python3.11/site-packages/graphviz/backend/execute.py:96\u001b[0m, in \u001b[0;36m_run_input_lines\u001b[0;34m(cmd, input_lines, kwargs)\u001b[0m\n\u001b[1;32m     95\u001b[0m \u001b[38;5;28;01mdef\u001b[39;00m \u001b[38;5;21m_run_input_lines\u001b[39m(cmd, input_lines, \u001b[38;5;241m*\u001b[39m, kwargs):\n\u001b[0;32m---> 96\u001b[0m     popen \u001b[38;5;241m=\u001b[39m subprocess\u001b[38;5;241m.\u001b[39mPopen(cmd, stdin\u001b[38;5;241m=\u001b[39msubprocess\u001b[38;5;241m.\u001b[39mPIPE, \u001b[38;5;241m*\u001b[39m\u001b[38;5;241m*\u001b[39mkwargs)\n\u001b[1;32m     98\u001b[0m     stdin_write \u001b[38;5;241m=\u001b[39m popen\u001b[38;5;241m.\u001b[39mstdin\u001b[38;5;241m.\u001b[39mwrite\n",
      "File \u001b[0;32m~/anaconda3/lib/python3.11/subprocess.py:1024\u001b[0m, in \u001b[0;36mPopen.__init__\u001b[0;34m(self, args, bufsize, executable, stdin, stdout, stderr, preexec_fn, close_fds, shell, cwd, env, universal_newlines, startupinfo, creationflags, restore_signals, start_new_session, pass_fds, user, group, extra_groups, encoding, errors, text, umask, pipesize, process_group)\u001b[0m\n\u001b[1;32m   1021\u001b[0m             \u001b[38;5;28mself\u001b[39m\u001b[38;5;241m.\u001b[39mstderr \u001b[38;5;241m=\u001b[39m io\u001b[38;5;241m.\u001b[39mTextIOWrapper(\u001b[38;5;28mself\u001b[39m\u001b[38;5;241m.\u001b[39mstderr,\n\u001b[1;32m   1022\u001b[0m                     encoding\u001b[38;5;241m=\u001b[39mencoding, errors\u001b[38;5;241m=\u001b[39merrors)\n\u001b[0;32m-> 1024\u001b[0m     \u001b[38;5;28mself\u001b[39m\u001b[38;5;241m.\u001b[39m_execute_child(args, executable, preexec_fn, close_fds,\n\u001b[1;32m   1025\u001b[0m                         pass_fds, cwd, env,\n\u001b[1;32m   1026\u001b[0m                         startupinfo, creationflags, shell,\n\u001b[1;32m   1027\u001b[0m                         p2cread, p2cwrite,\n\u001b[1;32m   1028\u001b[0m                         c2pread, c2pwrite,\n\u001b[1;32m   1029\u001b[0m                         errread, errwrite,\n\u001b[1;32m   1030\u001b[0m                         restore_signals,\n\u001b[1;32m   1031\u001b[0m                         gid, gids, uid, umask,\n\u001b[1;32m   1032\u001b[0m                         start_new_session, process_group)\n\u001b[1;32m   1033\u001b[0m \u001b[38;5;28;01mexcept\u001b[39;00m:\n\u001b[1;32m   1034\u001b[0m     \u001b[38;5;66;03m# Cleanup if the child failed starting.\u001b[39;00m\n",
      "File \u001b[0;32m~/anaconda3/lib/python3.11/subprocess.py:1917\u001b[0m, in \u001b[0;36mPopen._execute_child\u001b[0;34m(self, args, executable, preexec_fn, close_fds, pass_fds, cwd, env, startupinfo, creationflags, shell, p2cread, p2cwrite, c2pread, c2pwrite, errread, errwrite, restore_signals, gid, gids, uid, umask, start_new_session, process_group)\u001b[0m\n\u001b[1;32m   1916\u001b[0m         err_msg \u001b[38;5;241m=\u001b[39m os\u001b[38;5;241m.\u001b[39mstrerror(errno_num)\n\u001b[0;32m-> 1917\u001b[0m     \u001b[38;5;28;01mraise\u001b[39;00m child_exception_type(errno_num, err_msg, err_filename)\n\u001b[1;32m   1918\u001b[0m \u001b[38;5;28;01mraise\u001b[39;00m child_exception_type(err_msg)\n",
      "\u001b[0;31mFileNotFoundError\u001b[0m: [Errno 2] No such file or directory: PosixPath('dot')",
      "\nThe above exception was the direct cause of the following exception:\n",
      "\u001b[0;31mExecutableNotFound\u001b[0m                        Traceback (most recent call last)",
      "File \u001b[0;32m~/anaconda3/lib/python3.11/site-packages/IPython/core/formatters.py:974\u001b[0m, in \u001b[0;36mMimeBundleFormatter.__call__\u001b[0;34m(self, obj, include, exclude)\u001b[0m\n\u001b[1;32m    971\u001b[0m     method \u001b[38;5;241m=\u001b[39m get_real_method(obj, \u001b[38;5;28mself\u001b[39m\u001b[38;5;241m.\u001b[39mprint_method)\n\u001b[1;32m    973\u001b[0m     \u001b[38;5;28;01mif\u001b[39;00m method \u001b[38;5;129;01mis\u001b[39;00m \u001b[38;5;129;01mnot\u001b[39;00m \u001b[38;5;28;01mNone\u001b[39;00m:\n\u001b[0;32m--> 974\u001b[0m         \u001b[38;5;28;01mreturn\u001b[39;00m method(include\u001b[38;5;241m=\u001b[39minclude, exclude\u001b[38;5;241m=\u001b[39mexclude)\n\u001b[1;32m    975\u001b[0m     \u001b[38;5;28;01mreturn\u001b[39;00m \u001b[38;5;28;01mNone\u001b[39;00m\n\u001b[1;32m    976\u001b[0m \u001b[38;5;28;01melse\u001b[39;00m:\n",
      "File \u001b[0;32m~/anaconda3/lib/python3.11/site-packages/graphviz/jupyter_integration.py:98\u001b[0m, in \u001b[0;36mJupyterIntegration._repr_mimebundle_\u001b[0;34m(self, include, exclude, **_)\u001b[0m\n\u001b[1;32m     96\u001b[0m include \u001b[38;5;241m=\u001b[39m \u001b[38;5;28mset\u001b[39m(include) \u001b[38;5;28;01mif\u001b[39;00m include \u001b[38;5;129;01mis\u001b[39;00m \u001b[38;5;129;01mnot\u001b[39;00m \u001b[38;5;28;01mNone\u001b[39;00m \u001b[38;5;28;01melse\u001b[39;00m {\u001b[38;5;28mself\u001b[39m\u001b[38;5;241m.\u001b[39m_jupyter_mimetype}\n\u001b[1;32m     97\u001b[0m include \u001b[38;5;241m-\u001b[39m\u001b[38;5;241m=\u001b[39m \u001b[38;5;28mset\u001b[39m(exclude \u001b[38;5;129;01mor\u001b[39;00m [])\n\u001b[0;32m---> 98\u001b[0m \u001b[38;5;28;01mreturn\u001b[39;00m {mimetype: \u001b[38;5;28mgetattr\u001b[39m(\u001b[38;5;28mself\u001b[39m, method_name)()\n\u001b[1;32m     99\u001b[0m         \u001b[38;5;28;01mfor\u001b[39;00m mimetype, method_name \u001b[38;5;129;01min\u001b[39;00m MIME_TYPES\u001b[38;5;241m.\u001b[39mitems()\n\u001b[1;32m    100\u001b[0m         \u001b[38;5;28;01mif\u001b[39;00m mimetype \u001b[38;5;129;01min\u001b[39;00m include}\n",
      "File \u001b[0;32m~/anaconda3/lib/python3.11/site-packages/graphviz/jupyter_integration.py:98\u001b[0m, in \u001b[0;36m<dictcomp>\u001b[0;34m(.0)\u001b[0m\n\u001b[1;32m     96\u001b[0m include \u001b[38;5;241m=\u001b[39m \u001b[38;5;28mset\u001b[39m(include) \u001b[38;5;28;01mif\u001b[39;00m include \u001b[38;5;129;01mis\u001b[39;00m \u001b[38;5;129;01mnot\u001b[39;00m \u001b[38;5;28;01mNone\u001b[39;00m \u001b[38;5;28;01melse\u001b[39;00m {\u001b[38;5;28mself\u001b[39m\u001b[38;5;241m.\u001b[39m_jupyter_mimetype}\n\u001b[1;32m     97\u001b[0m include \u001b[38;5;241m-\u001b[39m\u001b[38;5;241m=\u001b[39m \u001b[38;5;28mset\u001b[39m(exclude \u001b[38;5;129;01mor\u001b[39;00m [])\n\u001b[0;32m---> 98\u001b[0m \u001b[38;5;28;01mreturn\u001b[39;00m {mimetype: \u001b[38;5;28mgetattr\u001b[39m(\u001b[38;5;28mself\u001b[39m, method_name)()\n\u001b[1;32m     99\u001b[0m         \u001b[38;5;28;01mfor\u001b[39;00m mimetype, method_name \u001b[38;5;129;01min\u001b[39;00m MIME_TYPES\u001b[38;5;241m.\u001b[39mitems()\n\u001b[1;32m    100\u001b[0m         \u001b[38;5;28;01mif\u001b[39;00m mimetype \u001b[38;5;129;01min\u001b[39;00m include}\n",
      "File \u001b[0;32m~/anaconda3/lib/python3.11/site-packages/graphviz/jupyter_integration.py:112\u001b[0m, in \u001b[0;36mJupyterIntegration._repr_image_svg_xml\u001b[0;34m(self)\u001b[0m\n\u001b[1;32m    110\u001b[0m \u001b[38;5;28;01mdef\u001b[39;00m \u001b[38;5;21m_repr_image_svg_xml\u001b[39m(\u001b[38;5;28mself\u001b[39m) \u001b[38;5;241m-\u001b[39m\u001b[38;5;241m>\u001b[39m \u001b[38;5;28mstr\u001b[39m:\n\u001b[1;32m    111\u001b[0m \u001b[38;5;250m    \u001b[39m\u001b[38;5;124;03m\"\"\"Return the rendered graph as SVG string.\"\"\"\u001b[39;00m\n\u001b[0;32m--> 112\u001b[0m     \u001b[38;5;28;01mreturn\u001b[39;00m \u001b[38;5;28mself\u001b[39m\u001b[38;5;241m.\u001b[39mpipe(\u001b[38;5;28mformat\u001b[39m\u001b[38;5;241m=\u001b[39m\u001b[38;5;124m'\u001b[39m\u001b[38;5;124msvg\u001b[39m\u001b[38;5;124m'\u001b[39m, encoding\u001b[38;5;241m=\u001b[39mSVG_ENCODING)\n",
      "File \u001b[0;32m~/anaconda3/lib/python3.11/site-packages/graphviz/piping.py:104\u001b[0m, in \u001b[0;36mPipe.pipe\u001b[0;34m(self, format, renderer, formatter, neato_no_op, quiet, engine, encoding)\u001b[0m\n\u001b[1;32m     55\u001b[0m \u001b[38;5;28;01mdef\u001b[39;00m \u001b[38;5;21mpipe\u001b[39m(\u001b[38;5;28mself\u001b[39m,\n\u001b[1;32m     56\u001b[0m          \u001b[38;5;28mformat\u001b[39m: typing\u001b[38;5;241m.\u001b[39mOptional[\u001b[38;5;28mstr\u001b[39m] \u001b[38;5;241m=\u001b[39m \u001b[38;5;28;01mNone\u001b[39;00m,\n\u001b[1;32m     57\u001b[0m          renderer: typing\u001b[38;5;241m.\u001b[39mOptional[\u001b[38;5;28mstr\u001b[39m] \u001b[38;5;241m=\u001b[39m \u001b[38;5;28;01mNone\u001b[39;00m,\n\u001b[0;32m   (...)\u001b[0m\n\u001b[1;32m     61\u001b[0m          engine: typing\u001b[38;5;241m.\u001b[39mOptional[\u001b[38;5;28mstr\u001b[39m] \u001b[38;5;241m=\u001b[39m \u001b[38;5;28;01mNone\u001b[39;00m,\n\u001b[1;32m     62\u001b[0m          encoding: typing\u001b[38;5;241m.\u001b[39mOptional[\u001b[38;5;28mstr\u001b[39m] \u001b[38;5;241m=\u001b[39m \u001b[38;5;28;01mNone\u001b[39;00m) \u001b[38;5;241m-\u001b[39m\u001b[38;5;241m>\u001b[39m typing\u001b[38;5;241m.\u001b[39mUnion[\u001b[38;5;28mbytes\u001b[39m, \u001b[38;5;28mstr\u001b[39m]:\n\u001b[1;32m     63\u001b[0m \u001b[38;5;250m    \u001b[39m\u001b[38;5;124;03m\"\"\"Return the source piped through the Graphviz layout command.\u001b[39;00m\n\u001b[1;32m     64\u001b[0m \n\u001b[1;32m     65\u001b[0m \u001b[38;5;124;03m    Args:\u001b[39;00m\n\u001b[0;32m   (...)\u001b[0m\n\u001b[1;32m    102\u001b[0m \u001b[38;5;124;03m        '<?xml version='\u001b[39;00m\n\u001b[1;32m    103\u001b[0m \u001b[38;5;124;03m    \"\"\"\u001b[39;00m\n\u001b[0;32m--> 104\u001b[0m     \u001b[38;5;28;01mreturn\u001b[39;00m \u001b[38;5;28mself\u001b[39m\u001b[38;5;241m.\u001b[39m_pipe_legacy(\u001b[38;5;28mformat\u001b[39m,\n\u001b[1;32m    105\u001b[0m                              renderer\u001b[38;5;241m=\u001b[39mrenderer,\n\u001b[1;32m    106\u001b[0m                              formatter\u001b[38;5;241m=\u001b[39mformatter,\n\u001b[1;32m    107\u001b[0m                              neato_no_op\u001b[38;5;241m=\u001b[39mneato_no_op,\n\u001b[1;32m    108\u001b[0m                              quiet\u001b[38;5;241m=\u001b[39mquiet,\n\u001b[1;32m    109\u001b[0m                              engine\u001b[38;5;241m=\u001b[39mengine,\n\u001b[1;32m    110\u001b[0m                              encoding\u001b[38;5;241m=\u001b[39mencoding)\n",
      "File \u001b[0;32m~/anaconda3/lib/python3.11/site-packages/graphviz/_tools.py:171\u001b[0m, in \u001b[0;36mdeprecate_positional_args.<locals>.decorator.<locals>.wrapper\u001b[0;34m(*args, **kwargs)\u001b[0m\n\u001b[1;32m    162\u001b[0m     wanted \u001b[38;5;241m=\u001b[39m \u001b[38;5;124m'\u001b[39m\u001b[38;5;124m, \u001b[39m\u001b[38;5;124m'\u001b[39m\u001b[38;5;241m.\u001b[39mjoin(\u001b[38;5;124mf\u001b[39m\u001b[38;5;124m'\u001b[39m\u001b[38;5;132;01m{\u001b[39;00mname\u001b[38;5;132;01m}\u001b[39;00m\u001b[38;5;124m=\u001b[39m\u001b[38;5;132;01m{\u001b[39;00mvalue\u001b[38;5;132;01m!r}\u001b[39;00m\u001b[38;5;124m'\u001b[39m\n\u001b[1;32m    163\u001b[0m                        \u001b[38;5;28;01mfor\u001b[39;00m name, value \u001b[38;5;129;01min\u001b[39;00m deprecated\u001b[38;5;241m.\u001b[39mitems())\n\u001b[1;32m    164\u001b[0m     warnings\u001b[38;5;241m.\u001b[39mwarn(\u001b[38;5;124mf\u001b[39m\u001b[38;5;124m'\u001b[39m\u001b[38;5;124mThe signature of \u001b[39m\u001b[38;5;132;01m{\u001b[39;00mfunc\u001b[38;5;241m.\u001b[39m\u001b[38;5;18m__name__\u001b[39m\u001b[38;5;132;01m}\u001b[39;00m\u001b[38;5;124m will be reduced\u001b[39m\u001b[38;5;124m'\u001b[39m\n\u001b[1;32m    165\u001b[0m                   \u001b[38;5;124mf\u001b[39m\u001b[38;5;124m'\u001b[39m\u001b[38;5;124m to \u001b[39m\u001b[38;5;132;01m{\u001b[39;00msupported_number\u001b[38;5;132;01m}\u001b[39;00m\u001b[38;5;124m positional args\u001b[39m\u001b[38;5;124m'\u001b[39m\n\u001b[1;32m    166\u001b[0m                   \u001b[38;5;124mf\u001b[39m\u001b[38;5;124m'\u001b[39m\u001b[38;5;124m \u001b[39m\u001b[38;5;132;01m{\u001b[39;00m\u001b[38;5;28mlist\u001b[39m(supported)\u001b[38;5;132;01m}\u001b[39;00m\u001b[38;5;124m: pass \u001b[39m\u001b[38;5;132;01m{\u001b[39;00mwanted\u001b[38;5;132;01m}\u001b[39;00m\u001b[38;5;124m'\u001b[39m\n\u001b[1;32m    167\u001b[0m                   \u001b[38;5;124m'\u001b[39m\u001b[38;5;124m as keyword arg(s)\u001b[39m\u001b[38;5;124m'\u001b[39m,\n\u001b[1;32m    168\u001b[0m                   stacklevel\u001b[38;5;241m=\u001b[39mstacklevel,\n\u001b[1;32m    169\u001b[0m                   category\u001b[38;5;241m=\u001b[39mcategory)\n\u001b[0;32m--> 171\u001b[0m \u001b[38;5;28;01mreturn\u001b[39;00m func(\u001b[38;5;241m*\u001b[39margs, \u001b[38;5;241m*\u001b[39m\u001b[38;5;241m*\u001b[39mkwargs)\n",
      "File \u001b[0;32m~/anaconda3/lib/python3.11/site-packages/graphviz/piping.py:121\u001b[0m, in \u001b[0;36mPipe._pipe_legacy\u001b[0;34m(self, format, renderer, formatter, neato_no_op, quiet, engine, encoding)\u001b[0m\n\u001b[1;32m    112\u001b[0m \u001b[38;5;129m@_tools\u001b[39m\u001b[38;5;241m.\u001b[39mdeprecate_positional_args(supported_number\u001b[38;5;241m=\u001b[39m\u001b[38;5;241m2\u001b[39m)\n\u001b[1;32m    113\u001b[0m \u001b[38;5;28;01mdef\u001b[39;00m \u001b[38;5;21m_pipe_legacy\u001b[39m(\u001b[38;5;28mself\u001b[39m,\n\u001b[1;32m    114\u001b[0m                  \u001b[38;5;28mformat\u001b[39m: typing\u001b[38;5;241m.\u001b[39mOptional[\u001b[38;5;28mstr\u001b[39m] \u001b[38;5;241m=\u001b[39m \u001b[38;5;28;01mNone\u001b[39;00m,\n\u001b[0;32m   (...)\u001b[0m\n\u001b[1;32m    119\u001b[0m                  engine: typing\u001b[38;5;241m.\u001b[39mOptional[\u001b[38;5;28mstr\u001b[39m] \u001b[38;5;241m=\u001b[39m \u001b[38;5;28;01mNone\u001b[39;00m,\n\u001b[1;32m    120\u001b[0m                  encoding: typing\u001b[38;5;241m.\u001b[39mOptional[\u001b[38;5;28mstr\u001b[39m] \u001b[38;5;241m=\u001b[39m \u001b[38;5;28;01mNone\u001b[39;00m) \u001b[38;5;241m-\u001b[39m\u001b[38;5;241m>\u001b[39m typing\u001b[38;5;241m.\u001b[39mUnion[\u001b[38;5;28mbytes\u001b[39m, \u001b[38;5;28mstr\u001b[39m]:\n\u001b[0;32m--> 121\u001b[0m     \u001b[38;5;28;01mreturn\u001b[39;00m \u001b[38;5;28mself\u001b[39m\u001b[38;5;241m.\u001b[39m_pipe_future(\u001b[38;5;28mformat\u001b[39m,\n\u001b[1;32m    122\u001b[0m                              renderer\u001b[38;5;241m=\u001b[39mrenderer,\n\u001b[1;32m    123\u001b[0m                              formatter\u001b[38;5;241m=\u001b[39mformatter,\n\u001b[1;32m    124\u001b[0m                              neato_no_op\u001b[38;5;241m=\u001b[39mneato_no_op,\n\u001b[1;32m    125\u001b[0m                              quiet\u001b[38;5;241m=\u001b[39mquiet,\n\u001b[1;32m    126\u001b[0m                              engine\u001b[38;5;241m=\u001b[39mengine,\n\u001b[1;32m    127\u001b[0m                              encoding\u001b[38;5;241m=\u001b[39mencoding)\n",
      "File \u001b[0;32m~/anaconda3/lib/python3.11/site-packages/graphviz/piping.py:149\u001b[0m, in \u001b[0;36mPipe._pipe_future\u001b[0;34m(self, format, renderer, formatter, neato_no_op, quiet, engine, encoding)\u001b[0m\n\u001b[1;32m    146\u001b[0m \u001b[38;5;28;01mif\u001b[39;00m encoding \u001b[38;5;129;01mis\u001b[39;00m \u001b[38;5;129;01mnot\u001b[39;00m \u001b[38;5;28;01mNone\u001b[39;00m:\n\u001b[1;32m    147\u001b[0m     \u001b[38;5;28;01mif\u001b[39;00m codecs\u001b[38;5;241m.\u001b[39mlookup(encoding) \u001b[38;5;129;01mis\u001b[39;00m codecs\u001b[38;5;241m.\u001b[39mlookup(\u001b[38;5;28mself\u001b[39m\u001b[38;5;241m.\u001b[39mencoding):\n\u001b[1;32m    148\u001b[0m         \u001b[38;5;66;03m# common case: both stdin and stdout need the same encoding\u001b[39;00m\n\u001b[0;32m--> 149\u001b[0m         \u001b[38;5;28;01mreturn\u001b[39;00m \u001b[38;5;28mself\u001b[39m\u001b[38;5;241m.\u001b[39m_pipe_lines_string(\u001b[38;5;241m*\u001b[39margs, encoding\u001b[38;5;241m=\u001b[39mencoding, \u001b[38;5;241m*\u001b[39m\u001b[38;5;241m*\u001b[39mkwargs)\n\u001b[1;32m    150\u001b[0m     \u001b[38;5;28;01mtry\u001b[39;00m:\n\u001b[1;32m    151\u001b[0m         raw \u001b[38;5;241m=\u001b[39m \u001b[38;5;28mself\u001b[39m\u001b[38;5;241m.\u001b[39m_pipe_lines(\u001b[38;5;241m*\u001b[39margs, input_encoding\u001b[38;5;241m=\u001b[39m\u001b[38;5;28mself\u001b[39m\u001b[38;5;241m.\u001b[39mencoding, \u001b[38;5;241m*\u001b[39m\u001b[38;5;241m*\u001b[39mkwargs)\n",
      "File \u001b[0;32m~/anaconda3/lib/python3.11/site-packages/graphviz/backend/piping.py:212\u001b[0m, in \u001b[0;36mpipe_lines_string\u001b[0;34m(engine, format, input_lines, encoding, renderer, formatter, neato_no_op, quiet)\u001b[0m\n\u001b[1;32m    206\u001b[0m cmd \u001b[38;5;241m=\u001b[39m dot_command\u001b[38;5;241m.\u001b[39mcommand(engine, \u001b[38;5;28mformat\u001b[39m,\n\u001b[1;32m    207\u001b[0m                           renderer\u001b[38;5;241m=\u001b[39mrenderer,\n\u001b[1;32m    208\u001b[0m                           formatter\u001b[38;5;241m=\u001b[39mformatter,\n\u001b[1;32m    209\u001b[0m                           neato_no_op\u001b[38;5;241m=\u001b[39mneato_no_op)\n\u001b[1;32m    210\u001b[0m kwargs \u001b[38;5;241m=\u001b[39m {\u001b[38;5;124m'\u001b[39m\u001b[38;5;124minput_lines\u001b[39m\u001b[38;5;124m'\u001b[39m: input_lines, \u001b[38;5;124m'\u001b[39m\u001b[38;5;124mencoding\u001b[39m\u001b[38;5;124m'\u001b[39m: encoding}\n\u001b[0;32m--> 212\u001b[0m proc \u001b[38;5;241m=\u001b[39m execute\u001b[38;5;241m.\u001b[39mrun_check(cmd, capture_output\u001b[38;5;241m=\u001b[39m\u001b[38;5;28;01mTrue\u001b[39;00m, quiet\u001b[38;5;241m=\u001b[39mquiet, \u001b[38;5;241m*\u001b[39m\u001b[38;5;241m*\u001b[39mkwargs)\n\u001b[1;32m    213\u001b[0m \u001b[38;5;28;01mreturn\u001b[39;00m proc\u001b[38;5;241m.\u001b[39mstdout\n",
      "File \u001b[0;32m~/anaconda3/lib/python3.11/site-packages/graphviz/backend/execute.py:81\u001b[0m, in \u001b[0;36mrun_check\u001b[0;34m(cmd, input_lines, encoding, quiet, **kwargs)\u001b[0m\n\u001b[1;32m     79\u001b[0m \u001b[38;5;28;01mexcept\u001b[39;00m \u001b[38;5;167;01mOSError\u001b[39;00m \u001b[38;5;28;01mas\u001b[39;00m e:\n\u001b[1;32m     80\u001b[0m     \u001b[38;5;28;01mif\u001b[39;00m e\u001b[38;5;241m.\u001b[39merrno \u001b[38;5;241m==\u001b[39m errno\u001b[38;5;241m.\u001b[39mENOENT:\n\u001b[0;32m---> 81\u001b[0m         \u001b[38;5;28;01mraise\u001b[39;00m ExecutableNotFound(cmd) \u001b[38;5;28;01mfrom\u001b[39;00m \u001b[38;5;21;01me\u001b[39;00m\n\u001b[1;32m     82\u001b[0m     \u001b[38;5;28;01mraise\u001b[39;00m\n\u001b[1;32m     84\u001b[0m \u001b[38;5;28;01mif\u001b[39;00m \u001b[38;5;129;01mnot\u001b[39;00m quiet \u001b[38;5;129;01mand\u001b[39;00m proc\u001b[38;5;241m.\u001b[39mstderr:\n",
      "\u001b[0;31mExecutableNotFound\u001b[0m: failed to execute PosixPath('dot'), make sure the Graphviz executables are on your systems' PATH"
     ]
    },
    {
     "data": {
      "text/plain": [
       "<graphviz.graphs.Digraph at 0x169b30dd0>"
      ]
     },
     "execution_count": 15,
     "metadata": {},
     "output_type": "execute_result"
    }
   ],
   "source": [
    "pymc.model_to_graphviz(OldFaithful2)"
   ]
  },
  {
   "cell_type": "code",
   "execution_count": null,
   "id": "9691dfe6",
   "metadata": {},
   "outputs": [],
   "source": [
    "# You can compare the above to this cell to confirm the correctness of your setup \n",
    "pymc.model_to_graphviz(OldFaithful2)"
   ]
  },
  {
   "cell_type": "code",
   "execution_count": null,
   "id": "107ae481",
   "metadata": {},
   "outputs": [],
   "source": [
    "with OldFaithful2:\n",
    "    v2_fit = pymc.sample()\n"
   ]
  },
  {
   "cell_type": "code",
   "execution_count": null,
   "id": "6d9add51",
   "metadata": {},
   "outputs": [],
   "source": [
    "dir(OldFaithful2)\n",
    "OldFaithful2.named_vars.keys()"
   ]
  },
  {
   "cell_type": "code",
   "execution_count": null,
   "id": "7d97a9bd",
   "metadata": {},
   "outputs": [],
   "source": [
    "# You can compare the above to this cell to confirm the correctness of your setup \n",
    "dir(OldFaithful2)\n",
    "OldFaithful2.named_vars.keys()"
   ]
  },
  {
   "cell_type": "code",
   "execution_count": null,
   "id": "c3c33d21",
   "metadata": {},
   "outputs": [],
   "source": [
    "az.plot_trace(v2_fit, var_names=['p', 'theta_w', 'theta_y', 'tau'])\n",
    "plt.tight_layout()"
   ]
  },
  {
   "cell_type": "code",
   "execution_count": null,
   "id": "37d3c5c8",
   "metadata": {},
   "outputs": [],
   "source": [
    "# You can compare the above to this cell to confirm the correctness of your setup \n",
    "az.plot_trace(v2_fit, var_names=['p', 'theta_w', 'theta_y', 'tau'])\n",
    "plt.tight_layout()"
   ]
  },
  {
   "cell_type": "code",
   "execution_count": null,
   "id": "884a7ea9",
   "metadata": {},
   "outputs": [],
   "source": [
    "az.summary(v2_fit, var_names=['p', 'theta_w', 'theta_y', 'tau'])\n"
   ]
  },
  {
   "cell_type": "code",
   "execution_count": null,
   "id": "ecf0dfed",
   "metadata": {},
   "outputs": [],
   "source": [
    "az.summary(v1_fit, var_names=['p', \n",
    "                              'theta_w0', 'theta_w1', \n",
    "                              'theta_y0', 'theta_y1', \n",
    "                              'tau_w', 'tau_y'])"
   ]
  },
  {
   "cell_type": "markdown",
   "id": "8aebbd99",
   "metadata": {},
   "source": [
    "\n",
    "## Part 4:<br>Complete the same specification using Python<br>as a Gibbs sampler with known full conditionals\n",
    "\n",
    "$\n",
    "\\begin{align}\n",
    "\\textrm{For $i$ in } 1,\\cdots, n &={} 272\\\\\n",
    "\\textrm{Let unobserved $u_i=1$ indicate the long time group} & \\quad \\textrm{so the data point belongs to upper right cluster of data}\\\\\n",
    "\\textrm{and unobserved $u_i=0$ indicate the short time group} & \\quad  \\textrm{so the data point belongs to bottom left cluster of data}\\\\\n",
    "u_i &\\sim{} \\textrm{Bernoulli}(p) \\\\\n",
    "p &\\sim{} \\textrm{beta}(\\alpha_0=1,\\beta_0=1)\\\\\n",
    "\\textrm{Let waiting duration} & \\\\\n",
    "w_i &\\sim{} N\\big((1-u_i)\\times \\theta_{w0} + u_i \\times \\theta_{w1}, \\tau_w\\big) \\\\\n",
    "\\theta_{w0} &\\sim{} N\\big(\\mu_{w0}=55, \\tau_{w0}=1/5^2 \\big) & \\\\\n",
    "\\theta_{w1} &\\sim{} N\\big(\\mu_{w1}=85, \\tau_{w1}=1/5^2 \\big) & \\\\\n",
    "\\tau_w  &\\sim{} \\textrm{Gamma}\\left(\\alpha=\\frac{1}{2}, \\beta=\\frac{1}{2}10^2\\right)\\\\\n",
    "\\textrm{and eruption duration} & \\\\\n",
    "y_i &\\sim{} N\\big((1-u_i)\\times \\theta_{y0} + u_i \\times \\theta_{y1}, \\tau_y\\big) & \\\\\n",
    "\\theta_{y0} &\\sim{} N\\big(\\mu_{y0}=2.0, \\tau_{y0}=1/0.5^2 \\big) & \\\\\n",
    "\\theta_{y1} &\\sim{} N\\big(\\mu_{y1}=4.5, \\tau_{y1}=1/0.5^2 \\big) & \\\\\n",
    "\\tau_y  &\\sim{} \\textrm{Gamma}\\left(\\alpha=\\frac{1}{2}, \\beta=\\frac{1}{2}1^2\\right)\\\\\n",
    "\\end{align}\n",
    "$"
   ]
  },
  {
   "cell_type": "markdown",
   "id": "588207e1",
   "metadata": {},
   "source": [
    "## Part 4A (10%): Getting $u$ and $p$ from the Joint\n",
    "\n",
    "$\n",
    "\\begin{align}\n",
    "\\prod_{i=1}^n N(w_i|\\theta_{w1},\\tau_{w})^{u_i}N(w_i|\\theta_{w0},\\tau_{w})^{1-u_i} N(y_i|\\theta_{y1},\\tau_{y})^{u_i}N(w_i|\\theta_{y0},\\tau_{y})^{1-u_i} &\\longleftarrow{} \\textrm{likelihood}\\\\ \n",
    "\\times  \\prod_{i=1}^n p^{u_i} (1-p)^{1-u_i} \\times p(p)p(\\theta_{w0})p(\\theta_{w1})p(\\tau_{w})p(\\theta_{y0})p(\\theta_{y1})p(\\tau_{y}) &\\longleftarrow{} \\textrm{priors}\n",
    "\\end{align}$\n",
    "\n",
    "$\n",
    "\\begin{align}\n",
    "\\Pr(u_i = 1 | - ) &\\propto{} N(w_i|\\theta_{w1},\\tau_{w}) N(y_i|\\theta_{y1},\\tau_{y})p\\\\\n",
    "\\Pr(u_i = 0 | - ) &\\propto{} N(w_i|\\theta_{w0},\\tau_{w}) N(y_i|\\theta_{y0},\\tau_{y})(1-p)\\\\\n",
    "\\Pr(u_i = u | - ) &={} \\frac{\\Pr(u_i = u | - )}{\\sum_j \\Pr(u_i = u_j | - )}\n",
    "\\end{align}$\n",
    "\n"
   ]
  },
  {
   "cell_type": "code",
   "execution_count": null,
   "id": "95bbc8ef",
   "metadata": {},
   "outputs": [],
   "source": [
    "# Hint\n",
    "stats.bernoulli(stats.beta(1,1).rvs(10)).rvs()"
   ]
  },
  {
   "cell_type": "code",
   "execution_count": null,
   "id": "ab016ad2",
   "metadata": {},
   "outputs": [],
   "source": [
    "# Note\n",
    "# .rvs(size) gives an array while .rvs() gives a scalar\n",
    "# unless parameter is a vector (as demonstrated above)\n",
    "stats.beta(1,1).rvs(2), stats.beta(1,1).rvs(size=1), stats.beta(1,1).rvs() "
   ]
  },
  {
   "cell_type": "code",
   "execution_count": null,
   "id": "fcadfa13",
   "metadata": {},
   "outputs": [],
   "source": [
    "n = 272\n",
    "G = 100\n",
    "\n",
    "thetas_w_tau0 = 1/5**2\n",
    "# Don't change these for Part4A: keep them set as given\n",
    "thetas_w_mu0 = np.array([54.596, 80.069])  # posterior means from a previous run\n",
    "thetas_w = np.zeros((2,G)) + thetas_w_mu0.reshape(2,1)\n",
    "\n",
    "thetas_y_tau0 = 1/0.5**2\n",
    "# Don't change these for Part4A: keep them set as given\n",
    "thetas_y_mu0 = np.array([2.046, 4.297])  # posterior means from a previous run\n",
    "thetas_y = np.zeros((2,G)) + thetas_y_mu0.reshape(2,1)\n",
    "\n",
    "taus_alpha = 1\n",
    "taus_beta = np.array([10**2, 1**2])  \n",
    "# Don't change these for Part4A: keep them set as given\n",
    "# posterior means from a previous run\n",
    "taus = np.zeros((2,G)) + np.array([0.028, 7.515]).reshape(2,1)\n",
    "\n",
    "us = np.zeros((n,G))\n",
    "ps = np.zeros(G)+0.5\n",
    "\n",
    "for g in range(1,G):\n",
    "    \n",
    "    # Fix this: it should not be random, and should be based on the\n",
    "    # full conditionals p(u_i=1|---)/[p(u_i=1|---) + p(u_i=0|---)]\n",
    "    # with `old_faithful.waiting` and `old_faithful.eruptions` and \n",
    "    # `thetas_w[:,g-1]`, `thetas_y[:,g-1]`, `taus[:,g-1]`, and `ps[g-1]` given\n",
    "    us[:,g] = stats.bernoulli(0.5).rvs(n)\n",
    "    \n",
    "    # Fix this: it's a standard beta update based on the hyperparameters \n",
    "    # of the prior for p and `(us[:,g]==1).sum()` and `(us[:,g]==0).sum()`\n",
    "    ps[g] = stats.beta(1,1).rvs()\n",
    "\n",
    "    # Don't change these for Part4A:  \n",
    "    # keep them set as the posterior means given above\n",
    "    thetas_w\n",
    "    thetas_y\n",
    "    taus\n",
    "    "
   ]
  },
  {
   "cell_type": "code",
   "execution_count": null,
   "id": "35521332",
   "metadata": {},
   "outputs": [],
   "source": [
    "# Hint: does this look right?\n",
    "fig,ax = plt.subplots(1,2,figsize=(10,4))\n",
    "ax[0].plot(sorted(us[:,1:].mean(axis=1)))\n",
    "ax[1].hist(ps);"
   ]
  },
  {
   "cell_type": "markdown",
   "id": "c0afe5e9",
   "metadata": {},
   "source": [
    "## Part 4B (10%): Getting $\\theta_w$ and $\\theta_y$ from the Joint\n",
    "\n",
    "$\n",
    "\\begin{align}\n",
    "\\prod_{i=1}^n N(w_i|\\theta_{w1},\\tau_{w})^{u_i}N(w_i|\\theta_{w0},\\tau_{w})^{1-u_i} N(y_i|\\theta_{y1},\\tau_{y})^{u_i}N(w_i|\\theta_{y0},\\tau_{y})^{1-u_i} &\\longleftarrow{} \\textrm{likelihood}\\\\ \n",
    "\\times  \\prod_{i=1}^n p^{u_i} (1-p)^{1-u_i} \\times p(p)p(\\theta_{w0})p(\\theta_{w1})p(\\tau_{w})p(\\theta_{y0})p(\\theta_{y1})p(\\tau_{y}) &\\longleftarrow{} \\textrm{priors}\n",
    "\\end{align}$\n",
    "\n",
    "\n",
    "$$\\scriptsize\n",
    "\\begin{align*}\n",
    "p(\\theta,\\tau|x) &\\propto{} p(\\theta,\\tau,x) = p(x|\\theta)p(\\theta)p(\\tau) \\quad (\\theta \\perp\\!\\!\\perp \\tau) \\leftarrow \\text{independent priors} & p(\\theta|x,\\theta_0,\\tau_0, \\tau) &={} \\text{N}\\left(\\frac{\\left(\\tau_0 \\theta_0+\\tau\\sum_{i=1}^{n}x_{i}\\right)}{(\\tau_0+n\\tau)}, \\sigma^{-2}=\\tau_0+n\\tau \\right)\\\\\n",
    "&={}  \\left[\\prod_{i=1}^n\\sqrt{\\frac{\\tau}{2\\pi}} e^{-\\frac{\\tau\\left(x_i-\\theta\\right)^2}{2}}\\right] \\sqrt{\\frac{\\tau_0}{2\\pi}} e^{-\\frac{\\tau_0\\left(\\theta-\\theta_0\\right)^2}{2}} \\frac{\\beta ^{\\alpha}}{\\Gamma(\\alpha)} \\tau^{\\frac{\\alpha}{2} -1}e^{-\\frac{\\beta}{2} \\tau} & p(\\tau|x, \\alpha, \\beta, \\theta) &={} \\text{Gamma}\\left(\\frac{\\alpha}{2}+\\frac{n}{2}, \\frac{1}{2}\\beta+\\frac{1}{2}\\sum_{i=1}^n\\left(x_i-\\theta\\right)^2 \\right)\\\\{}\\\\\n",
    "\\end{align*}$$"
   ]
  },
  {
   "cell_type": "code",
   "execution_count": 16,
   "id": "2f1f876c",
   "metadata": {},
   "outputs": [
    {
     "ename": "ValueError",
     "evalue": "could not broadcast input array from shape (136,) into shape (272,)",
     "output_type": "error",
     "traceback": [
      "\u001b[0;31m---------------------------------------------------------------------------\u001b[0m",
      "\u001b[0;31mValueError\u001b[0m                                Traceback (most recent call last)",
      "Cell \u001b[0;32mIn[16], line 25\u001b[0m\n\u001b[1;32m     19\u001b[0m ps \u001b[38;5;241m=\u001b[39m np\u001b[38;5;241m.\u001b[39mzeros(G)\u001b[38;5;241m+\u001b[39m\u001b[38;5;241m0.5\u001b[39m\n\u001b[1;32m     21\u001b[0m \u001b[38;5;28;01mfor\u001b[39;00m g \u001b[38;5;129;01min\u001b[39;00m \u001b[38;5;28mrange\u001b[39m(\u001b[38;5;241m1\u001b[39m,G):\n\u001b[1;32m     22\u001b[0m     \n\u001b[1;32m     23\u001b[0m     \u001b[38;5;66;03m# Don't change these for Part4B:  \u001b[39;00m\n\u001b[1;32m     24\u001b[0m     \u001b[38;5;66;03m# confirm theta updates are working by leaving this as is\u001b[39;00m\n\u001b[0;32m---> 25\u001b[0m     us[:,g] \u001b[38;5;241m=\u001b[39m stats\u001b[38;5;241m.\u001b[39mbernoulli(\u001b[38;5;241m0.5\u001b[39m)\u001b[38;5;241m.\u001b[39mrvs(n)\n\u001b[1;32m     27\u001b[0m     \u001b[38;5;66;03m# Don't change these for Part4B:  \u001b[39;00m\n\u001b[1;32m     28\u001b[0m     \u001b[38;5;66;03m# confirm theta updates are working by leaving this as is\u001b[39;00m\n\u001b[1;32m     29\u001b[0m     ps[g] \u001b[38;5;241m=\u001b[39m stats\u001b[38;5;241m.\u001b[39mbeta(\u001b[38;5;241m1\u001b[39m,\u001b[38;5;241m1\u001b[39m)\u001b[38;5;241m.\u001b[39mrvs()\n",
      "\u001b[0;31mValueError\u001b[0m: could not broadcast input array from shape (136,) into shape (272,)"
     ]
    }
   ],
   "source": [
    "n = 272\n",
    "G = 100\n",
    "\n",
    "thetas_w_mu0 = np.array([55,85])\n",
    "thetas_w = np.zeros((2,G)) + thetas_w_mu0.reshape(2,1)\n",
    "thetas_w_tau0 = 1/5**2\n",
    "\n",
    "thetas_y_mu0 = np.array([2.0,4.5])\n",
    "thetas_y = np.zeros((2,G)) + thetas_y_mu0.reshape(2,1)\n",
    "thetas_y_tau0 = 1/0.5**2\n",
    "\n",
    "taus_alpha = 1\n",
    "taus_beta = np.array([10**2, 1**2])  \n",
    "# Don't change these for Part4A: keep them set as given\n",
    "# posterior means from a previous run\n",
    "taus = np.zeros((2,G)) + np.array([0.028, 7.515]).reshape(2,1)\n",
    "\n",
    "us = np.zeros((n,G))\n",
    "ps = np.zeros(G)+0.5\n",
    "\n",
    "for g in range(1,G):\n",
    "    \n",
    "    # Don't change these for Part4B:  \n",
    "    # confirm theta updates are working by leaving this as is\n",
    "    us[:,g] = stats.bernoulli(0.5).rvs(n)\n",
    "    \n",
    "    # Don't change these for Part4B:  \n",
    "    # confirm theta updates are working by leaving this as is\n",
    "    ps[g] = stats.beta(1,1).rvs()\n",
    "    \n",
    "   # Fix this: it should be based on old_faithful.waiting[us[:, g]==0]\n",
    "   # thetas_w_tau0, taus[0,g-1], and thetas_w_mu0[0]\n",
    "    data = old_faithful.waiting[us[:, g] == 0]\n",
    "    n = len(data)  # Count of relevant observations\n",
    "\n",
    "    tau0 = thetas_w_tau0  # Prior precision\n",
    "    theta0 = thetas_w_mu0[0]  # Prior mean\n",
    "    tau = taus[0, g-1]  # Likelihood precision\n",
    "\n",
    "    prec = tau0 + n * tau  # Posterior precision\n",
    "    mu = (tau0 * theta0 + tau * np.sum(data)) / prec  # Posterior mean\n",
    "\n",
    "    thetas_w[0, g] = stats.norm(loc=mu, scale=1/np.sqrt(prec)).rvs()\n",
    "\n",
    "    # Fix this: it should be based on old_faithful.waiting[us[:, g]==1]\n",
    "    data = old_faithful.waiting[us[:, g] == 1]\n",
    "    n = len(data)\n",
    "\n",
    "    tau0 = thetas_w_tau0\n",
    "    theta0 = thetas_w_mu0[1]\n",
    "    tau = taus[0, g-1]\n",
    "\n",
    "    prec = tau0 + n * tau\n",
    "    mu = (tau0 * theta0 + tau * np.sum(data)) / prec\n",
    "\n",
    "    thetas_w[1, g] = stats.norm(loc=mu, scale=1/np.sqrt(prec)).rvs()\n",
    "\n",
    "    # Fix this: it should be based on old_faithful.eruptions[us[:, g]==0]\n",
    "    data = old_faithful.eruptions[us[:, g] == 0]\n",
    "    n = len(data)\n",
    "\n",
    "    tau0 = thetas_y_tau0\n",
    "    theta0 = thetas_y_mu0[0]\n",
    "    tau = taus[1, g-1]\n",
    "\n",
    "    prec = tau0 + n * tau\n",
    "    mu = (tau0 * theta0 + tau * np.sum(data)) / prec\n",
    "\n",
    "    thetas_y[0, g] = stats.norm(loc=mu, scale=1/np.sqrt(prec)).rvs()\n",
    "\n",
    "    # Fix this: it should be based on old_faithful.eruptions[us[:, g]==1]\n",
    "    data = old_faithful.eruptions[us[:, g] == 1]\n",
    "    n = len(data)\n",
    "\n",
    "    tau0 = thetas_y_tau0\n",
    "    theta0 = thetas_y_mu0[1]\n",
    "    tau = taus[1, g-1]\n",
    "\n",
    "    prec = tau0 + n * tau\n",
    "    mu = (tau0 * theta0 + tau * np.sum(data)) / prec\n",
    "\n",
    "    thetas_y[1, g] = stats.norm(loc=mu, scale=1/np.sqrt(prec)).rvs()\n",
    "\n",
    "\n",
    "    # Don't change these for Part4B:  \n",
    "    # keep them set as the posterior means given above\n",
    "    taus"
   ]
  },
  {
   "cell_type": "code",
   "execution_count": null,
   "id": "16f1997b",
   "metadata": {},
   "outputs": [],
   "source": [
    "# Hint: does this look right?\n",
    "thetas_w[:,1:].mean(axis=1), old_faithful.waiting.mean()"
   ]
  },
  {
   "cell_type": "code",
   "execution_count": null,
   "id": "a68f86b5",
   "metadata": {},
   "outputs": [],
   "source": [
    "# Hint: does this look right?\n",
    "thetas_y[:,1:].mean(axis=1), old_faithful.eruptions.mean()"
   ]
  },
  {
   "cell_type": "markdown",
   "id": "3202190c",
   "metadata": {},
   "source": [
    "## Part 4C (10%): Getting $\\tau$ from the Joint\n",
    "\n",
    "$\n",
    "\\begin{align}\n",
    "\\prod_{i=1}^n N(w_i|\\theta_{w1},\\tau_{w})^{u_i}N(w_i|\\theta_{w0},\\tau_{w})^{1-u_i} N(y_i|\\theta_{y1},\\tau_{y})^{u_i}N(w_i|\\theta_{y0},\\tau_{y})^{1-u_i} &\\longleftarrow{} \\textrm{likelihood}\\\\ \n",
    "\\times  \\prod_{i=1}^n p^{u_i} (1-p)^{1-u_i} \\times p(p)p(\\theta_{w0})p(\\theta_{w1})p(\\tau_{w})p(\\theta_{y0})p(\\theta_{y1})p(\\tau_{y}) &\\longleftarrow{} \\textrm{priors}\n",
    "\\end{align}$\n",
    "\n",
    "\n",
    "$$\\scriptsize\n",
    "\\begin{align*}\n",
    "p(\\theta,\\tau|x) &\\propto{} p(\\theta,\\tau,x) = p(x|\\theta)p(\\theta)p(\\tau) \\quad (\\theta \\perp\\!\\!\\perp \\tau) \\leftarrow \\text{independent priors} & p(\\theta|x,\\theta_0,\\tau_0, \\tau) &={} \\text{N}\\left(\\frac{\\left(\\tau_0 \\theta_0+\\tau\\sum_{i=1}^{n}x_{i}\\right)}{(\\tau_0+n\\tau)}, \\sigma^{-2}=\\tau_0+n\\tau \\right)\\\\\n",
    "&={}  \\left[\\prod_{i=1}^n\\sqrt{\\frac{\\tau}{2\\pi}} e^{-\\frac{\\tau\\left(x_i-\\theta\\right)^2}{2}}\\right] \\sqrt{\\frac{\\tau_0}{2\\pi}} e^{-\\frac{\\tau_0\\left(\\theta-\\theta_0\\right)^2}{2}} \\frac{\\beta ^{\\alpha}}{\\Gamma(\\alpha)} \\tau^{\\frac{\\alpha}{2} -1}e^{-\\frac{\\beta}{2} \\tau} & p(\\tau|x, \\alpha, \\beta, \\theta) &={} \\text{Gamma}\\left(\\frac{\\alpha}{2}+\\frac{n}{2}, \\frac{1}{2}\\beta+\\frac{1}{2}\\sum_{i=1}^n\\left(x_i-\\theta\\right)^2 \\right)\\\\{}\\\\\n",
    "\\end{align*}$$"
   ]
  },
  {
   "cell_type": "code",
   "execution_count": null,
   "id": "7816f1c1",
   "metadata": {},
   "outputs": [],
   "source": [
    "n = 272\n",
    "G = 100\n",
    "\n",
    "thetas_w_tau0 = 1/5**2\n",
    "# Don't change these for Part4C: keep them set as given\n",
    "thetas_w_mu0 = np.array([54.596, 80.069])  # posterior means from a previous run\n",
    "thetas_w = np.zeros((2,G)) + thetas_w_mu0.reshape(2,1)\n",
    "\n",
    "thetas_y_tau0 = 1/0.5**2\n",
    "# Don't change these for Part4C: keep them set as given\n",
    "thetas_y_mu0 = np.array([2.046, 4.297])  # posterior means from a previous run\n",
    "thetas_y = np.zeros((2,G)) + thetas_y_mu0.reshape(2,1)\n",
    "\n",
    "taus_alpha = 1\n",
    "taus_beta = np.array([10**2, 1**2])\n",
    "taus = np.zeros((2,G)) + taus_alpha/taus_beta.reshape(2,1)\n",
    "\n",
    "us = np.zeros((n,G))\n",
    "ps = np.zeros(G)+0.5\n",
    "\n",
    "for g in range(1,G):\n",
    "    \n",
    "    # For Part4C...\n",
    "    # Feel free to change this in any manner you wish\n",
    "    # to help confirm that your tau update is working \n",
    "    us[:,g] = stats.bernoulli(0.5).rvs(n)\n",
    "    \n",
    "    # For Part4C...\n",
    "    # Feel free to change this in any manner you wish\n",
    "    # to help confirm that your tau update is working \n",
    "    ps[g] = stats.beta(1,1).rvs()\n",
    "\n",
    "    # Don't change these for now just keep them fixed on the given\n",
    "    # posterior means from a previous run \n",
    "    thetas_w\n",
    "    thetas_y\n",
    "    \n",
    "    # Fix this: it should be based on thetas_w[0,g] and thetas_w[1,g]\n",
    "    # and old_faithful.waiting[us[:,g]==0] and old_faithful.waiting[us[:,g]==1]\n",
    "    # and taus_alpha and taus_beta[0]\n",
    "    taus[0,g] = (taus_alpha/taus_beta)[0]\n",
    "    \n",
    "    # Fix this: it should be based on thetas_y[0,g] and thetas_y[1,g]\n",
    "    # and old_faithful.eruptions[us[:,g]==0] and old_faithful.eruptions[us[:,g]==1]\n",
    "    # and taus_alpha and taus_beta[1]\n",
    "    taus[1,g] = (taus_alpha/taus_beta)[1]\n",
    "    "
   ]
  },
  {
   "cell_type": "code",
   "execution_count": null,
   "id": "adbf23e9",
   "metadata": {},
   "outputs": [],
   "source": [
    "# Hint: does this look right?\n",
    "taus[:,1:].mean(axis=1), 1/old_faithful.waiting.var(), 1/old_faithful.eruptions.var()"
   ]
  },
  {
   "cell_type": "markdown",
   "id": "7a92a265",
   "metadata": {},
   "source": [
    "## Part 4D (10%): Complete Gibbs Sampler\n"
   ]
  },
  {
   "cell_type": "code",
   "execution_count": null,
   "id": "67efeeb2",
   "metadata": {},
   "outputs": [],
   "source": [
    "n = 272\n",
    "G = 100\n",
    "\n",
    "thetas_w_mu0 = np.array([55,85])\n",
    "thetas_w = np.zeros((2,G)) + thetas_w_mu0.reshape(2,1)\n",
    "thetas_w_tau0 = 1/5**2\n",
    "\n",
    "thetas_y_mu0 = np.array([2.0,4.5])\n",
    "thetas_y = np.zeros((2,G)) + thetas_y_mu0.reshape(2,1)\n",
    "thetas_y_tau0 = 1/0.5**2\n",
    "\n",
    "taus_alpha = 1\n",
    "taus_beta = np.array([10**2, 1**2])\n",
    "taus = np.zeros((2,G)) + taus_alpha/taus_beta.reshape(2,1)\n",
    "\n",
    "us = np.zeros((n,G))\n",
    "ps = np.zeros(G)+0.5\n",
    "\n",
    "for g in range(1,G):\n",
    "    \n",
    "    pass  # put it all together"
   ]
  },
  {
   "cell_type": "code",
   "execution_count": null,
   "id": "664de1b5",
   "metadata": {},
   "outputs": [],
   "source": []
  },
  {
   "cell_type": "code",
   "execution_count": null,
   "id": "a23a2af3",
   "metadata": {},
   "outputs": [],
   "source": [
    "az.summary(v1_fit, var_names=['p', \n",
    "                              'theta_w0', 'theta_w1', \n",
    "                              'theta_y0', 'theta_y1', \n",
    "                              'tau_w', 'tau_y'])"
   ]
  },
  {
   "cell_type": "markdown",
   "id": "07b9811d",
   "metadata": {},
   "source": [
    "<!-- ## Part 1:<br>Complete the specification below (A) using PyMC<br>and (B) as a Gibbs sampler with known full conditionals using Python -->\n"
   ]
  }
 ],
 "metadata": {
  "kernelspec": {
   "display_name": "Python 3 (ipykernel)",
   "language": "python",
   "name": "python3"
  },
  "language_info": {
   "codemirror_mode": {
    "name": "ipython",
    "version": 3
   },
   "file_extension": ".py",
   "mimetype": "text/x-python",
   "name": "python",
   "nbconvert_exporter": "python",
   "pygments_lexer": "ipython3",
   "version": "3.11.3"
  }
 },
 "nbformat": 4,
 "nbformat_minor": 5
}
